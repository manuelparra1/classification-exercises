{
 "cells": [
  {
   "cell_type": "code",
   "execution_count": 14,
   "id": "4148c16e",
   "metadata": {},
   "outputs": [],
   "source": [
    "# Python Display Latex\n",
    "from IPython.display import display, Latex"
   ]
  },
  {
   "cell_type": "markdown",
   "id": "2f1d416a",
   "metadata": {},
   "source": [
    "\n",
    "<img src=\"confusion_matrix.png\" align=left width=\"600\">"
   ]
  },
  {
   "cell_type": "code",
   "execution_count": 13,
   "id": "3e3617b1",
   "metadata": {},
   "outputs": [
    {
     "data": {
      "text/html": [
       "<style>\n",
       "table {float:left}\n",
       "</style>\n"
      ],
      "text/plain": [
       "<IPython.core.display.HTML object>"
      ]
     },
     "metadata": {},
     "output_type": "display_data"
    }
   ],
   "source": [
    "%%html\n",
    "<style>\n",
    "table {float:left}\n",
    "</style>"
   ]
  },
  {
   "cell_type": "markdown",
   "id": "04e0820c",
   "metadata": {},
   "source": [
    "# 2.\n",
    "\n",
    "|               | pred dog   | pred cat   |\n",
    "|:------------  |-----------:|-----------:|\n",
    "| actual dog    |         46 |         7  |\n",
    "| actual cat    |         13 |         34 |"
   ]
  },
  {
   "cell_type": "markdown",
   "id": "44418d2b",
   "metadata": {},
   "source": [
    "- In the context of this problem, what is a false positive?\n",
    "- In the context of this problem, what is a false negative?\n",
    "- How would you describe this model?"
   ]
  },
  {
   "cell_type": "code",
   "execution_count": null,
   "id": "9eb47ed4",
   "metadata": {},
   "outputs": [],
   "source": [
    "# False Positive\n",
    "\n",
    "# Pred Dog/Actual Cat = 13\n",
    "# Pred Cat/Actual Dog = 7"
   ]
  },
  {
   "cell_type": "code",
   "execution_count": null,
   "id": "424db54c",
   "metadata": {},
   "outputs": [],
   "source": [
    "# False Negative\n",
    "\n",
    "# Pred Cat/Actual Dog = 7\n",
    "# Pred Dog/Actual Cat = 13"
   ]
  },
  {
   "cell_type": "code",
   "execution_count": 17,
   "id": "f374dcee",
   "metadata": {},
   "outputs": [
    {
     "data": {
      "text/latex": [
       "$ TP / TP+FN $"
      ],
      "text/plain": [
       "<IPython.core.display.Latex object>"
      ]
     },
     "metadata": {},
     "output_type": "display_data"
    }
   ],
   "source": [
    "# Dogs as positive case\n",
    "display(Latex('$ TP / TP+FN $'))"
   ]
  },
  {
   "cell_type": "markdown",
   "id": "c6af6eb6",
   "metadata": {},
   "source": [
    "# 3.\n",
    "\n",
    "\n",
    "You are working as a datascientist working for Codeup Cody Creator (C3 for short), a rubber-duck manufacturing plant.\n",
    "\n",
    "Unfortunately, some of the rubber ducks that are produced will have defects. Your team has built several models that try to predict those defects, and the data from their predictions can be found here.\n",
    "\n",
    "Use the predictions dataset and pandas to help answer the following questions:\n",
    "\n",
    "   - An internal team wants to investigate the cause of the manufacturing defects. They tell you that they want to identify as many of the ducks that have a defect as possible. Which evaluation metric would be appropriate here? Which model would be the best fit for this use case?\n",
    "   - Recently several stories in the local news have come out highlighting customers who received a rubber duck with a defect, and portraying C3 in a bad light. The PR team has decided to launch a program that gives customers with a defective duck a vacation to Hawaii. They need you to predict which ducks will have defects, but tell you the really don't want to accidentally give out a vacation package when the duck really doesn't have a defect. Which evaluation metric would be appropriate here? Which model would be the best fit for this use case?\n",
    "\n"
   ]
  },
  {
   "cell_type": "code",
   "execution_count": null,
   "id": "f7ec6d65",
   "metadata": {},
   "outputs": [],
   "source": [
    "pd.read_csv('data.csv')  "
   ]
  },
  {
   "cell_type": "markdown",
   "id": "c4bc3de0",
   "metadata": {},
   "source": [
    "# 4.\n",
    "\n",
    "You are working as a data scientist for Gives You Paws ™, a subscription based service that shows you cute pictures of dogs or cats (or both for an additional fee).\n",
    "\n",
    "At Gives You Paws, anyone can upload pictures of their cats or dogs. The photos are then put through a two step process. First an automated algorithm tags pictures as either a cat or a dog (Phase I). Next, the photos that have been initially identified are put through another round of review, possibly with some human oversight, before being presented to the users (Phase II).\n",
    "\n",
    "Several models have already been developed with the data, and you can find their results here.\n",
    "\n",
    "Given this dataset, use pandas to create a baseline model (i.e. a model that just predicts the most common class) and answer the following questions:\n",
    "\n",
    "   - In terms of accuracy, how do the various models compare to the baseline model? Are any of the models better than the baseline?\n",
    "   - Suppose you are working on a team that solely deals with dog pictures. Which of these models would you recommend?\n",
    "   - Suppose you are working on a team that solely deals with cat pictures. Which of these models would you recommend?\n",
    "\n"
   ]
  }
 ],
 "metadata": {
  "kernelspec": {
   "display_name": "Python 3 (ipykernel)",
   "language": "python",
   "name": "python3"
  },
  "language_info": {
   "codemirror_mode": {
    "name": "ipython",
    "version": 3
   },
   "file_extension": ".py",
   "mimetype": "text/x-python",
   "name": "python",
   "nbconvert_exporter": "python",
   "pygments_lexer": "ipython3",
   "version": "3.9.13"
  }
 },
 "nbformat": 4,
 "nbformat_minor": 5
}
