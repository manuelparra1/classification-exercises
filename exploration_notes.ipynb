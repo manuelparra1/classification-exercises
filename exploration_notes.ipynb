{
 "cells": [
  {
   "cell_type": "code",
   "execution_count": 1,
   "id": "ddc37434",
   "metadata": {},
   "outputs": [],
   "source": [
    "import numpy as np\n",
    "import pandas as pd\n",
    "import matplotlib.pyplot as plt\n",
    "import seaborn as sns\n",
    "\n",
    "# import splitting and imputing functions\n",
    "from sklearn.model_selection import train_test_split\n",
    "from sklearn.impute import SimpleImputer\n",
    "\n",
    "# turn off pink boxes for demo\n",
    "import warnings\n",
    "warnings.filterwarnings(\"ignore\")\n",
    "\n",
    "# import our own acquire module\n",
    "import acquire\n",
    "import prepare"
   ]
  },
  {
   "cell_type": "code",
   "execution_count": 2,
   "id": "e2baf661",
   "metadata": {},
   "outputs": [],
   "source": [
    "taxis = sns.load_dataset('taxis')"
   ]
  },
  {
   "cell_type": "code",
   "execution_count": 3,
   "id": "c397aebd",
   "metadata": {
    "scrolled": true
   },
   "outputs": [
    {
     "data": {
      "text/html": [
       "<div>\n",
       "<style scoped>\n",
       "    .dataframe tbody tr th:only-of-type {\n",
       "        vertical-align: middle;\n",
       "    }\n",
       "\n",
       "    .dataframe tbody tr th {\n",
       "        vertical-align: top;\n",
       "    }\n",
       "\n",
       "    .dataframe thead th {\n",
       "        text-align: right;\n",
       "    }\n",
       "</style>\n",
       "<table border=\"1\" class=\"dataframe\">\n",
       "  <thead>\n",
       "    <tr style=\"text-align: right;\">\n",
       "      <th></th>\n",
       "      <th>pickup</th>\n",
       "      <th>dropoff</th>\n",
       "      <th>passengers</th>\n",
       "      <th>distance</th>\n",
       "      <th>fare</th>\n",
       "      <th>tip</th>\n",
       "      <th>tolls</th>\n",
       "      <th>total</th>\n",
       "      <th>color</th>\n",
       "      <th>payment</th>\n",
       "      <th>pickup_zone</th>\n",
       "      <th>dropoff_zone</th>\n",
       "      <th>pickup_borough</th>\n",
       "      <th>dropoff_borough</th>\n",
       "    </tr>\n",
       "  </thead>\n",
       "  <tbody>\n",
       "    <tr>\n",
       "      <th>0</th>\n",
       "      <td>2019-03-23 20:21:09</td>\n",
       "      <td>2019-03-23 20:27:24</td>\n",
       "      <td>1</td>\n",
       "      <td>1.6</td>\n",
       "      <td>7.0</td>\n",
       "      <td>2.15</td>\n",
       "      <td>0.0</td>\n",
       "      <td>12.95</td>\n",
       "      <td>yellow</td>\n",
       "      <td>credit card</td>\n",
       "      <td>Lenox Hill West</td>\n",
       "      <td>UN/Turtle Bay South</td>\n",
       "      <td>Manhattan</td>\n",
       "      <td>Manhattan</td>\n",
       "    </tr>\n",
       "  </tbody>\n",
       "</table>\n",
       "</div>"
      ],
      "text/plain": [
       "                pickup              dropoff  passengers  distance  fare   tip  \\\n",
       "0  2019-03-23 20:21:09  2019-03-23 20:27:24           1       1.6   7.0  2.15   \n",
       "\n",
       "   tolls  total   color      payment      pickup_zone         dropoff_zone  \\\n",
       "0    0.0  12.95  yellow  credit card  Lenox Hill West  UN/Turtle Bay South   \n",
       "\n",
       "  pickup_borough dropoff_borough  \n",
       "0      Manhattan       Manhattan  "
      ]
     },
     "execution_count": 3,
     "metadata": {},
     "output_type": "execute_result"
    }
   ],
   "source": [
    "taxis.head(1)"
   ]
  },
  {
   "cell_type": "code",
   "execution_count": 4,
   "id": "995ba92f",
   "metadata": {},
   "outputs": [
    {
     "name": "stdout",
     "output_type": "stream",
     "text": [
      "<class 'pandas.core.frame.DataFrame'>\n",
      "RangeIndex: 6433 entries, 0 to 6432\n",
      "Data columns (total 14 columns):\n",
      " #   Column           Non-Null Count  Dtype  \n",
      "---  ------           --------------  -----  \n",
      " 0   pickup           6433 non-null   object \n",
      " 1   dropoff          6433 non-null   object \n",
      " 2   passengers       6433 non-null   int64  \n",
      " 3   distance         6433 non-null   float64\n",
      " 4   fare             6433 non-null   float64\n",
      " 5   tip              6433 non-null   float64\n",
      " 6   tolls            6433 non-null   float64\n",
      " 7   total            6433 non-null   float64\n",
      " 8   color            6433 non-null   object \n",
      " 9   payment          6389 non-null   object \n",
      " 10  pickup_zone      6407 non-null   object \n",
      " 11  dropoff_zone     6388 non-null   object \n",
      " 12  pickup_borough   6407 non-null   object \n",
      " 13  dropoff_borough  6388 non-null   object \n",
      "dtypes: float64(5), int64(1), object(8)\n",
      "memory usage: 703.7+ KB\n"
     ]
    }
   ],
   "source": [
    "taxis.info()"
   ]
  },
  {
   "cell_type": "code",
   "execution_count": 5,
   "id": "ea9bbc44",
   "metadata": {},
   "outputs": [
    {
     "data": {
      "text/plain": [
       "credit card    4577\n",
       "cash           1812\n",
       "Name: payment, dtype: int64"
      ]
     },
     "execution_count": 5,
     "metadata": {},
     "output_type": "execute_result"
    }
   ],
   "source": [
    "taxis['payment'].value_counts()"
   ]
  },
  {
   "cell_type": "code",
   "execution_count": 6,
   "id": "3679cb05",
   "metadata": {},
   "outputs": [
    {
     "data": {
      "text/plain": [
       "yellow    5451\n",
       "green      982\n",
       "Name: color, dtype: int64"
      ]
     },
     "execution_count": 6,
     "metadata": {},
     "output_type": "execute_result"
    }
   ],
   "source": [
    "taxis['color'].value_counts()"
   ]
  },
  {
   "cell_type": "code",
   "execution_count": 7,
   "id": "31f9b39a",
   "metadata": {
    "scrolled": true
   },
   "outputs": [
    {
     "data": {
      "text/html": [
       "<div>\n",
       "<style scoped>\n",
       "    .dataframe tbody tr th:only-of-type {\n",
       "        vertical-align: middle;\n",
       "    }\n",
       "\n",
       "    .dataframe tbody tr th {\n",
       "        vertical-align: top;\n",
       "    }\n",
       "\n",
       "    .dataframe thead th {\n",
       "        text-align: right;\n",
       "    }\n",
       "</style>\n",
       "<table border=\"1\" class=\"dataframe\">\n",
       "  <thead>\n",
       "    <tr style=\"text-align: right;\">\n",
       "      <th></th>\n",
       "      <th>count</th>\n",
       "      <th>mean</th>\n",
       "      <th>std</th>\n",
       "      <th>min</th>\n",
       "      <th>25%</th>\n",
       "      <th>50%</th>\n",
       "      <th>75%</th>\n",
       "      <th>max</th>\n",
       "    </tr>\n",
       "  </thead>\n",
       "  <tbody>\n",
       "    <tr>\n",
       "      <th>passengers</th>\n",
       "      <td>6433.0</td>\n",
       "      <td>1.539251</td>\n",
       "      <td>1.203768</td>\n",
       "      <td>0.0</td>\n",
       "      <td>1.00</td>\n",
       "      <td>1.00</td>\n",
       "      <td>2.00</td>\n",
       "      <td>6.00</td>\n",
       "    </tr>\n",
       "    <tr>\n",
       "      <th>distance</th>\n",
       "      <td>6433.0</td>\n",
       "      <td>3.024617</td>\n",
       "      <td>3.827867</td>\n",
       "      <td>0.0</td>\n",
       "      <td>0.98</td>\n",
       "      <td>1.64</td>\n",
       "      <td>3.21</td>\n",
       "      <td>36.70</td>\n",
       "    </tr>\n",
       "    <tr>\n",
       "      <th>fare</th>\n",
       "      <td>6433.0</td>\n",
       "      <td>13.091073</td>\n",
       "      <td>11.551804</td>\n",
       "      <td>1.0</td>\n",
       "      <td>6.50</td>\n",
       "      <td>9.50</td>\n",
       "      <td>15.00</td>\n",
       "      <td>150.00</td>\n",
       "    </tr>\n",
       "    <tr>\n",
       "      <th>tip</th>\n",
       "      <td>6433.0</td>\n",
       "      <td>1.979220</td>\n",
       "      <td>2.448560</td>\n",
       "      <td>0.0</td>\n",
       "      <td>0.00</td>\n",
       "      <td>1.70</td>\n",
       "      <td>2.80</td>\n",
       "      <td>33.20</td>\n",
       "    </tr>\n",
       "    <tr>\n",
       "      <th>tolls</th>\n",
       "      <td>6433.0</td>\n",
       "      <td>0.325273</td>\n",
       "      <td>1.415267</td>\n",
       "      <td>0.0</td>\n",
       "      <td>0.00</td>\n",
       "      <td>0.00</td>\n",
       "      <td>0.00</td>\n",
       "      <td>24.02</td>\n",
       "    </tr>\n",
       "    <tr>\n",
       "      <th>total</th>\n",
       "      <td>6433.0</td>\n",
       "      <td>18.517794</td>\n",
       "      <td>13.815570</td>\n",
       "      <td>1.3</td>\n",
       "      <td>10.80</td>\n",
       "      <td>14.16</td>\n",
       "      <td>20.30</td>\n",
       "      <td>174.82</td>\n",
       "    </tr>\n",
       "  </tbody>\n",
       "</table>\n",
       "</div>"
      ],
      "text/plain": [
       "             count       mean        std  min    25%    50%    75%     max\n",
       "passengers  6433.0   1.539251   1.203768  0.0   1.00   1.00   2.00    6.00\n",
       "distance    6433.0   3.024617   3.827867  0.0   0.98   1.64   3.21   36.70\n",
       "fare        6433.0  13.091073  11.551804  1.0   6.50   9.50  15.00  150.00\n",
       "tip         6433.0   1.979220   2.448560  0.0   0.00   1.70   2.80   33.20\n",
       "tolls       6433.0   0.325273   1.415267  0.0   0.00   0.00   0.00   24.02\n",
       "total       6433.0  18.517794  13.815570  1.3  10.80  14.16  20.30  174.82"
      ]
     },
     "execution_count": 7,
     "metadata": {},
     "output_type": "execute_result"
    }
   ],
   "source": [
    "taxis.describe().T"
   ]
  },
  {
   "cell_type": "markdown",
   "id": "1cac15b5",
   "metadata": {},
   "source": [
    "# 1. Drop Redundant, & Useless Columns\n",
    "# 2. Fix NULL values\n",
    "# 3. Create Dummy Variables of Object/String & Categorical variables --> Binary Variables"
   ]
  },
  {
   "cell_type": "code",
   "execution_count": 8,
   "id": "39806eb3",
   "metadata": {},
   "outputs": [],
   "source": [
    "taxis = taxis.drop(columns=['pickup_zone','dropoff_zone','pickup','dropoff'])"
   ]
  },
  {
   "cell_type": "code",
   "execution_count": 9,
   "id": "7d0216bb",
   "metadata": {},
   "outputs": [
    {
     "data": {
      "text/plain": [
       "passengers          0\n",
       "distance            0\n",
       "fare                0\n",
       "tip                 0\n",
       "tolls               0\n",
       "total               0\n",
       "color               0\n",
       "payment            44\n",
       "pickup_borough     26\n",
       "dropoff_borough    45\n",
       "dtype: int64"
      ]
     },
     "execution_count": 9,
     "metadata": {},
     "output_type": "execute_result"
    }
   ],
   "source": [
    "taxis.isnull().sum()"
   ]
  },
  {
   "cell_type": "code",
   "execution_count": 10,
   "id": "b05b4c6f",
   "metadata": {},
   "outputs": [],
   "source": [
    "taxis = taxis.dropna()"
   ]
  },
  {
   "cell_type": "code",
   "execution_count": 11,
   "id": "f66e19c5",
   "metadata": {},
   "outputs": [
    {
     "data": {
      "text/plain": [
       "passengers         0\n",
       "distance           0\n",
       "fare               0\n",
       "tip                0\n",
       "tolls              0\n",
       "total              0\n",
       "color              0\n",
       "payment            0\n",
       "pickup_borough     0\n",
       "dropoff_borough    0\n",
       "dtype: int64"
      ]
     },
     "execution_count": 11,
     "metadata": {},
     "output_type": "execute_result"
    }
   ],
   "source": [
    "taxis.isnull().sum()"
   ]
  },
  {
   "cell_type": "code",
   "execution_count": 12,
   "id": "f67555b6",
   "metadata": {},
   "outputs": [
    {
     "name": "stdout",
     "output_type": "stream",
     "text": [
      "<class 'pandas.core.frame.DataFrame'>\n",
      "Int64Index: 6341 entries, 0 to 6432\n",
      "Data columns (total 10 columns):\n",
      " #   Column           Non-Null Count  Dtype  \n",
      "---  ------           --------------  -----  \n",
      " 0   passengers       6341 non-null   int64  \n",
      " 1   distance         6341 non-null   float64\n",
      " 2   fare             6341 non-null   float64\n",
      " 3   tip              6341 non-null   float64\n",
      " 4   tolls            6341 non-null   float64\n",
      " 5   total            6341 non-null   float64\n",
      " 6   color            6341 non-null   object \n",
      " 7   payment          6341 non-null   object \n",
      " 8   pickup_borough   6341 non-null   object \n",
      " 9   dropoff_borough  6341 non-null   object \n",
      "dtypes: float64(5), int64(1), object(4)\n",
      "memory usage: 544.9+ KB\n"
     ]
    }
   ],
   "source": [
    "taxis.info()"
   ]
  },
  {
   "cell_type": "code",
   "execution_count": 13,
   "id": "32f88e82",
   "metadata": {},
   "outputs": [],
   "source": [
    "taxis_dummies = pd.get_dummies(taxis[['color','payment','pickup_borough','dropoff_borough']],drop_first=True)"
   ]
  },
  {
   "cell_type": "code",
   "execution_count": 14,
   "id": "308c7c64",
   "metadata": {
    "scrolled": true
   },
   "outputs": [
    {
     "data": {
      "text/html": [
       "<div>\n",
       "<style scoped>\n",
       "    .dataframe tbody tr th:only-of-type {\n",
       "        vertical-align: middle;\n",
       "    }\n",
       "\n",
       "    .dataframe tbody tr th {\n",
       "        vertical-align: top;\n",
       "    }\n",
       "\n",
       "    .dataframe thead th {\n",
       "        text-align: right;\n",
       "    }\n",
       "</style>\n",
       "<table border=\"1\" class=\"dataframe\">\n",
       "  <thead>\n",
       "    <tr style=\"text-align: right;\">\n",
       "      <th></th>\n",
       "      <th>color_yellow</th>\n",
       "      <th>payment_credit card</th>\n",
       "      <th>pickup_borough_Brooklyn</th>\n",
       "      <th>pickup_borough_Manhattan</th>\n",
       "      <th>pickup_borough_Queens</th>\n",
       "      <th>dropoff_borough_Brooklyn</th>\n",
       "      <th>dropoff_borough_Manhattan</th>\n",
       "      <th>dropoff_borough_Queens</th>\n",
       "      <th>dropoff_borough_Staten Island</th>\n",
       "    </tr>\n",
       "  </thead>\n",
       "  <tbody>\n",
       "    <tr>\n",
       "      <th>0</th>\n",
       "      <td>1</td>\n",
       "      <td>1</td>\n",
       "      <td>0</td>\n",
       "      <td>1</td>\n",
       "      <td>0</td>\n",
       "      <td>0</td>\n",
       "      <td>1</td>\n",
       "      <td>0</td>\n",
       "      <td>0</td>\n",
       "    </tr>\n",
       "    <tr>\n",
       "      <th>1</th>\n",
       "      <td>1</td>\n",
       "      <td>0</td>\n",
       "      <td>0</td>\n",
       "      <td>1</td>\n",
       "      <td>0</td>\n",
       "      <td>0</td>\n",
       "      <td>1</td>\n",
       "      <td>0</td>\n",
       "      <td>0</td>\n",
       "    </tr>\n",
       "  </tbody>\n",
       "</table>\n",
       "</div>"
      ],
      "text/plain": [
       "   color_yellow  payment_credit card  pickup_borough_Brooklyn  \\\n",
       "0             1                    1                        0   \n",
       "1             1                    0                        0   \n",
       "\n",
       "   pickup_borough_Manhattan  pickup_borough_Queens  dropoff_borough_Brooklyn  \\\n",
       "0                         1                      0                         0   \n",
       "1                         1                      0                         0   \n",
       "\n",
       "   dropoff_borough_Manhattan  dropoff_borough_Queens  \\\n",
       "0                          1                       0   \n",
       "1                          1                       0   \n",
       "\n",
       "   dropoff_borough_Staten Island  \n",
       "0                              0  \n",
       "1                              0  "
      ]
     },
     "execution_count": 14,
     "metadata": {},
     "output_type": "execute_result"
    }
   ],
   "source": [
    "taxis_dummies.head(2)"
   ]
  },
  {
   "cell_type": "code",
   "execution_count": null,
   "id": "f0375282",
   "metadata": {},
   "outputs": [],
   "source": [
    "#concat"
   ]
  },
  {
   "cell_type": "code",
   "execution_count": 18,
   "id": "e57f2b40",
   "metadata": {},
   "outputs": [],
   "source": [
    "taxis = pd.concat( [taxis, taxis_dummies], axis=1 )"
   ]
  },
  {
   "cell_type": "code",
   "execution_count": 19,
   "id": "9442382a",
   "metadata": {},
   "outputs": [],
   "source": [
    "num_vars = ['passengers', 'distance','fare','tip','total']"
   ]
  },
  {
   "cell_type": "code",
   "execution_count": 20,
   "id": "a7b5f554",
   "metadata": {},
   "outputs": [],
   "source": [
    "taxi_train,taxi_validate,taxi_test = prepare.split_dataset(taxis)"
   ]
  },
  {
   "cell_type": "code",
   "execution_count": 21,
   "id": "44465aa0",
   "metadata": {
    "scrolled": true
   },
   "outputs": [
    {
     "data": {
      "text/html": [
       "<div>\n",
       "<style scoped>\n",
       "    .dataframe tbody tr th:only-of-type {\n",
       "        vertical-align: middle;\n",
       "    }\n",
       "\n",
       "    .dataframe tbody tr th {\n",
       "        vertical-align: top;\n",
       "    }\n",
       "\n",
       "    .dataframe thead th {\n",
       "        text-align: right;\n",
       "    }\n",
       "</style>\n",
       "<table border=\"1\" class=\"dataframe\">\n",
       "  <thead>\n",
       "    <tr style=\"text-align: right;\">\n",
       "      <th></th>\n",
       "      <th>passengers</th>\n",
       "      <th>distance</th>\n",
       "      <th>fare</th>\n",
       "      <th>tip</th>\n",
       "      <th>tolls</th>\n",
       "      <th>total</th>\n",
       "      <th>color</th>\n",
       "      <th>payment</th>\n",
       "      <th>pickup_borough</th>\n",
       "      <th>dropoff_borough</th>\n",
       "      <th>color_yellow</th>\n",
       "      <th>payment_credit card</th>\n",
       "      <th>pickup_borough_Brooklyn</th>\n",
       "      <th>pickup_borough_Manhattan</th>\n",
       "      <th>pickup_borough_Queens</th>\n",
       "      <th>dropoff_borough_Brooklyn</th>\n",
       "      <th>dropoff_borough_Manhattan</th>\n",
       "      <th>dropoff_borough_Queens</th>\n",
       "      <th>dropoff_borough_Staten Island</th>\n",
       "    </tr>\n",
       "  </thead>\n",
       "  <tbody>\n",
       "    <tr>\n",
       "      <th>1336</th>\n",
       "      <td>2</td>\n",
       "      <td>1.43</td>\n",
       "      <td>8.0</td>\n",
       "      <td>0.00</td>\n",
       "      <td>0.0</td>\n",
       "      <td>11.80</td>\n",
       "      <td>yellow</td>\n",
       "      <td>cash</td>\n",
       "      <td>Manhattan</td>\n",
       "      <td>Manhattan</td>\n",
       "      <td>1</td>\n",
       "      <td>0</td>\n",
       "      <td>0</td>\n",
       "      <td>1</td>\n",
       "      <td>0</td>\n",
       "      <td>0</td>\n",
       "      <td>1</td>\n",
       "      <td>0</td>\n",
       "      <td>0</td>\n",
       "    </tr>\n",
       "    <tr>\n",
       "      <th>5255</th>\n",
       "      <td>1</td>\n",
       "      <td>0.88</td>\n",
       "      <td>6.5</td>\n",
       "      <td>1.96</td>\n",
       "      <td>0.0</td>\n",
       "      <td>11.76</td>\n",
       "      <td>yellow</td>\n",
       "      <td>credit card</td>\n",
       "      <td>Manhattan</td>\n",
       "      <td>Manhattan</td>\n",
       "      <td>1</td>\n",
       "      <td>1</td>\n",
       "      <td>0</td>\n",
       "      <td>1</td>\n",
       "      <td>0</td>\n",
       "      <td>0</td>\n",
       "      <td>1</td>\n",
       "      <td>0</td>\n",
       "      <td>0</td>\n",
       "    </tr>\n",
       "  </tbody>\n",
       "</table>\n",
       "</div>"
      ],
      "text/plain": [
       "      passengers  distance  fare   tip  tolls  total   color      payment  \\\n",
       "1336           2      1.43   8.0  0.00    0.0  11.80  yellow         cash   \n",
       "5255           1      0.88   6.5  1.96    0.0  11.76  yellow  credit card   \n",
       "\n",
       "     pickup_borough dropoff_borough  color_yellow  payment_credit card  \\\n",
       "1336      Manhattan       Manhattan             1                    0   \n",
       "5255      Manhattan       Manhattan             1                    1   \n",
       "\n",
       "      pickup_borough_Brooklyn  pickup_borough_Manhattan  \\\n",
       "1336                        0                         1   \n",
       "5255                        0                         1   \n",
       "\n",
       "      pickup_borough_Queens  dropoff_borough_Brooklyn  \\\n",
       "1336                      0                         0   \n",
       "5255                      0                         0   \n",
       "\n",
       "      dropoff_borough_Manhattan  dropoff_borough_Queens  \\\n",
       "1336                          1                       0   \n",
       "5255                          1                       0   \n",
       "\n",
       "      dropoff_borough_Staten Island  \n",
       "1336                              0  \n",
       "5255                              0  "
      ]
     },
     "execution_count": 21,
     "metadata": {},
     "output_type": "execute_result"
    }
   ],
   "source": [
    "taxi_train.head(2)"
   ]
  },
  {
   "cell_type": "code",
   "execution_count": null,
   "id": "eb9a0a38",
   "metadata": {},
   "outputs": [],
   "source": [
    "#target variable\n",
    "#\n",
    "# y-axis"
   ]
  },
  {
   "cell_type": "code",
   "execution_count": null,
   "id": "766a3404",
   "metadata": {},
   "outputs": [],
   "source": [
    "#split stratify on target = 'fare'"
   ]
  },
  {
   "cell_type": "code",
   "execution_count": 29,
   "id": "15169e65",
   "metadata": {},
   "outputs": [
    {
     "data": {
      "text/plain": [
       "['passengers',\n",
       " 'distance',\n",
       " 'fare',\n",
       " 'tip',\n",
       " 'tolls',\n",
       " 'total',\n",
       " 'color',\n",
       " 'payment',\n",
       " 'pickup_borough',\n",
       " 'dropoff_borough',\n",
       " 'color_yellow',\n",
       " 'payment_credit card',\n",
       " 'pickup_borough_Brooklyn',\n",
       " 'pickup_borough_Manhattan',\n",
       " 'pickup_borough_Queens',\n",
       " 'dropoff_borough_Brooklyn',\n",
       " 'dropoff_borough_Manhattan',\n",
       " 'dropoff_borough_Queens',\n",
       " 'dropoff_borough_Staten Island']"
      ]
     },
     "execution_count": 29,
     "metadata": {},
     "output_type": "execute_result"
    }
   ],
   "source": [
    "taxi_train.columns.to_list()"
   ]
  },
  {
   "cell_type": "code",
   "execution_count": 23,
   "id": "01c6ccf2",
   "metadata": {
    "scrolled": false
   },
   "outputs": [
    {
     "data": {
      "text/plain": [
       "<AxesSubplot:title={'center':'distance vs fare?'}, xlabel='distance', ylabel='fare'>"
      ]
     },
     "execution_count": 23,
     "metadata": {},
     "output_type": "execute_result"
    },
    {
     "data": {
      "image/png": "[encoded data removed]",
      "text/plain": [
       "<Figure size 640x480 with 1 Axes>"
      ]
     },
     "metadata": {},
     "output_type": "display_data"
    }
   ],
   "source": [
    "plt.title('distance vs fare?')\n",
    "sns.scatterplot(x='distance',y='fare',data=taxi_train)"
   ]
  },
  {
   "cell_type": "code",
   "execution_count": 33,
   "id": "7861b459",
   "metadata": {},
   "outputs": [
    {
     "data": {
      "text/plain": [
       "<AxesSubplot:xlabel='passengers', ylabel='fare'>"
      ]
     },
     "execution_count": 33,
     "metadata": {},
     "output_type": "execute_result"
    },
    {
     "data": {
      "image/png": "[encoded data removed]",
      "text/plain": [
       "<Figure size 640x480 with 1 Axes>"
      ]
     },
     "metadata": {},
     "output_type": "display_data"
    }
   ],
   "source": [
    "sns.barplot(x='passengers',y='fare',hue='payment_credit card',data=taxi_train)"
   ]
  }
 ],
 "metadata": {
  "kernelspec": {
   "display_name": "Python 3 (ipykernel)",
   "language": "python",
   "name": "python3"
  },
  "language_info": {
   "codemirror_mode": {
    "name": "ipython",
    "version": 3
   },
   "file_extension": ".py",
   "mimetype": "text/x-python",
   "name": "python",
   "nbconvert_exporter": "python",
   "pygments_lexer": "ipython3",
   "version": "3.9.13"
  }
 },
 "nbformat": 4,
 "nbformat_minor": 5
}
