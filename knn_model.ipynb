{
 "cells": [
  {
   "cell_type": "markdown",
   "id": "efa36d08",
   "metadata": {},
   "source": [
    "# KNN Exercises"
   ]
  },
  {
   "cell_type": "markdown",
   "id": "8419d64e",
   "metadata": {},
   "source": [
    "### Create a new notebook, knn_model, and work with the titanic dataset to answer the following:"
   ]
  },
  {
   "cell_type": "markdown",
   "id": "ab59570f",
   "metadata": {},
   "source": [
    "#### 1. Fit a K-Nearest Neighbors classifier to your training sample and transform (i.e. make predictions on the training sample)\n",
    "\n",
    "#### 2. Evaluate your results using the model score, confusion matrix, and classification report.\n",
    "\n",
    "#### 3. Print and clearly label the following: Accuracy, true positive rate, false positive rate, true negative rate, false negative rate, precision, recall, f1-score, and support.\n",
    "\n",
    "#### 4. Run through steps 1-3 setting k to 10\n",
    "\n",
    "#### 5. Run through steps 1-3 setting k to 20\n",
    "\n",
    "#### 6. What are the differences in the evaluation metrics? Which performs better on your in-sample data? Why?\n",
    "\n",
    "#### 7. Which model performs best on our out-of-sample data from validate?"
   ]
  },
  {
   "cell_type": "markdown",
   "id": "27f8adac",
   "metadata": {},
   "source": [
    "> ### Lesson Example"
   ]
  },
  {
   "cell_type": "markdown",
   "id": "628e4990",
   "metadata": {},
   "source": [
    "# KNN Exercises"
   ]
  },
  {
   "cell_type": "markdown",
   "id": "af266df6",
   "metadata": {},
   "source": [
    "### Libraries"
   ]
  },
  {
   "cell_type": "code",
   "execution_count": 4,
   "id": "a7500bae",
   "metadata": {},
   "outputs": [],
   "source": [
    "# ignore warnings\n",
    "import warnings\n",
    "warnings.filterwarnings(\"ignore\")\n",
    "\n",
    "import pandas as pd\n",
    "import numpy as np\n",
    "\n",
    "%matplotlib inline\n",
    "import matplotlib.pyplot as plt\n",
    "import seaborn as sns\n",
    "\n",
    "import acquire\n",
    "import prepare\n",
    "\n",
    "from sklearn.model_selection import train_test_split\n",
    "from sklearn.neighbors import KNeighborsClassifier\n",
    "from sklearn.metrics import classification_report, confusion_matrix, plot_confusion_matrix\n",
    "\n",
    "from pydataset import data"
   ]
  },
  {
   "cell_type": "markdown",
   "id": "02870183",
   "metadata": {},
   "source": [
    "### Acquire"
   ]
  },
  {
   "cell_type": "code",
   "execution_count": 5,
   "id": "a3a649ca",
   "metadata": {},
   "outputs": [],
   "source": [
    "titanic = acquire.get_titanic_data()"
   ]
  },
  {
   "cell_type": "markdown",
   "id": "876caeb8",
   "metadata": {},
   "source": [
    "### Prepare"
   ]
  },
  {
   "cell_type": "code",
   "execution_count": 6,
   "id": "bbeaf5fd",
   "metadata": {},
   "outputs": [],
   "source": [
    "titanic = prepare.prep_titanic(titanic)\n",
    "titanic = titanic.drop(columns=['sex', 'embark_town','age'])"
   ]
  },
  {
   "cell_type": "markdown",
   "id": "6ca03066",
   "metadata": {},
   "source": [
    "### Verify"
   ]
  },
  {
   "cell_type": "code",
   "execution_count": 7,
   "id": "9dc65beb",
   "metadata": {},
   "outputs": [
    {
     "data": {
      "text/plain": [
       "survived                   0\n",
       "pclass                     0\n",
       "sibsp                      0\n",
       "parch                      0\n",
       "fare                       0\n",
       "alone                      0\n",
       "sex_male                   0\n",
       "embark_town_Queenstown     0\n",
       "embark_town_Southampton    0\n",
       "dtype: int64"
      ]
     },
     "execution_count": 7,
     "metadata": {},
     "output_type": "execute_result"
    }
   ],
   "source": [
    "titanic.isna().sum()"
   ]
  },
  {
   "cell_type": "markdown",
   "id": "876be0bd",
   "metadata": {},
   "source": [
    "### Split"
   ]
  },
  {
   "cell_type": "code",
   "execution_count": 8,
   "id": "3ce01cc0",
   "metadata": {},
   "outputs": [],
   "source": [
    "train_validate, test = train_test_split(titanic,train_size=.8,random_state=123)\n",
    "train, validate = train_test_split(titanic,train_size=.7,random_state=123,stratify=titanic.survived)"
   ]
  },
  {
   "cell_type": "markdown",
   "id": "8014f051",
   "metadata": {},
   "source": [
    "### Divide/Seperate Target"
   ]
  },
  {
   "cell_type": "code",
   "execution_count": 9,
   "id": "d616ef92",
   "metadata": {},
   "outputs": [
    {
     "data": {
      "text/plain": [
       "(623, 8)"
      ]
     },
     "execution_count": 9,
     "metadata": {},
     "output_type": "execute_result"
    }
   ],
   "source": [
    "X_train = train.drop(columns=['survived'])\n",
    "y_train = train['survived']\n",
    "\n",
    "X_validate = validate.drop(columns=['survived'])\n",
    "y_validate = validate['survived']\n",
    "\n",
    "X_test = test.drop(columns=['survived'])\n",
    "y_test = test['survived']\n",
    "\n",
    "X_train.shape"
   ]
  },
  {
   "cell_type": "code",
   "execution_count": null,
   "id": "8e77aa11",
   "metadata": {},
   "outputs": [],
   "source": [
    "# Write a baseline function"
   ]
  },
  {
   "cell_type": "markdown",
   "id": "5f0c2a51",
   "metadata": {},
   "source": [
    "#### 1. Fit a K-Nearest Neighbors classifier to your training sample and transform (i.e. make predictions on the training sample)"
   ]
  },
  {
   "cell_type": "code",
   "execution_count": 10,
   "id": "dbb21967",
   "metadata": {},
   "outputs": [],
   "source": [
    "knn = KNeighborsClassifier(n_neighbors=5)"
   ]
  },
  {
   "cell_type": "code",
   "execution_count": 11,
   "id": "e8f98fe2",
   "metadata": {},
   "outputs": [
    {
     "data": {
      "text/html": [
       "<style>#sk-container-id-1 {color: black;background-color: white;}#sk-container-id-1 pre{padding: 0;}#sk-container-id-1 div.sk-toggleable {background-color: white;}#sk-container-id-1 label.sk-toggleable__label {cursor: pointer;display: block;width: 100%;margin-bottom: 0;padding: 0.3em;box-sizing: border-box;text-align: center;}#sk-container-id-1 label.sk-toggleable__label-arrow:before {content: \"▸\";float: left;margin-right: 0.25em;color: #696969;}#sk-container-id-1 label.sk-toggleable__label-arrow:hover:before {color: black;}#sk-container-id-1 div.sk-estimator:hover label.sk-toggleable__label-arrow:before {color: black;}#sk-container-id-1 div.sk-toggleable__content {max-height: 0;max-width: 0;overflow: hidden;text-align: left;background-color: #f0f8ff;}#sk-container-id-1 div.sk-toggleable__content pre {margin: 0.2em;color: black;border-radius: 0.25em;background-color: #f0f8ff;}#sk-container-id-1 input.sk-toggleable__control:checked~div.sk-toggleable__content {max-height: 200px;max-width: 100%;overflow: auto;}#sk-container-id-1 input.sk-toggleable__control:checked~label.sk-toggleable__label-arrow:before {content: \"▾\";}#sk-container-id-1 div.sk-estimator input.sk-toggleable__control:checked~label.sk-toggleable__label {background-color: #d4ebff;}#sk-container-id-1 div.sk-label input.sk-toggleable__control:checked~label.sk-toggleable__label {background-color: #d4ebff;}#sk-container-id-1 input.sk-hidden--visually {border: 0;clip: rect(1px 1px 1px 1px);clip: rect(1px, 1px, 1px, 1px);height: 1px;margin: -1px;overflow: hidden;padding: 0;position: absolute;width: 1px;}#sk-container-id-1 div.sk-estimator {font-family: monospace;background-color: #f0f8ff;border: 1px dotted black;border-radius: 0.25em;box-sizing: border-box;margin-bottom: 0.5em;}#sk-container-id-1 div.sk-estimator:hover {background-color: #d4ebff;}#sk-container-id-1 div.sk-parallel-item::after {content: \"\";width: 100%;border-bottom: 1px solid gray;flex-grow: 1;}#sk-container-id-1 div.sk-label:hover label.sk-toggleable__label {background-color: #d4ebff;}#sk-container-id-1 div.sk-serial::before {content: \"\";position: absolute;border-left: 1px solid gray;box-sizing: border-box;top: 0;bottom: 0;left: 50%;z-index: 0;}#sk-container-id-1 div.sk-serial {display: flex;flex-direction: column;align-items: center;background-color: white;padding-right: 0.2em;padding-left: 0.2em;position: relative;}#sk-container-id-1 div.sk-item {position: relative;z-index: 1;}#sk-container-id-1 div.sk-parallel {display: flex;align-items: stretch;justify-content: center;background-color: white;position: relative;}#sk-container-id-1 div.sk-item::before, #sk-container-id-1 div.sk-parallel-item::before {content: \"\";position: absolute;border-left: 1px solid gray;box-sizing: border-box;top: 0;bottom: 0;left: 50%;z-index: -1;}#sk-container-id-1 div.sk-parallel-item {display: flex;flex-direction: column;z-index: 1;position: relative;background-color: white;}#sk-container-id-1 div.sk-parallel-item:first-child::after {align-self: flex-end;width: 50%;}#sk-container-id-1 div.sk-parallel-item:last-child::after {align-self: flex-start;width: 50%;}#sk-container-id-1 div.sk-parallel-item:only-child::after {width: 0;}#sk-container-id-1 div.sk-dashed-wrapped {border: 1px dashed gray;margin: 0 0.4em 0.5em 0.4em;box-sizing: border-box;padding-bottom: 0.4em;background-color: white;}#sk-container-id-1 div.sk-label label {font-family: monospace;font-weight: bold;display: inline-block;line-height: 1.2em;}#sk-container-id-1 div.sk-label-container {text-align: center;}#sk-container-id-1 div.sk-container {/* jupyter's `normalize.less` sets `[hidden] { display: none; }` but bootstrap.min.css set `[hidden] { display: none !important; }` so we also need the `!important` here to be able to override the default hidden behavior on the sphinx rendered scikit-learn.org. See: https://github.com/scikit-learn/scikit-learn/issues/21755 */display: inline-block !important;position: relative;}#sk-container-id-1 div.sk-text-repr-fallback {display: none;}</style><div id=\"sk-container-id-1\" class=\"sk-top-container\"><div class=\"sk-text-repr-fallback\"><pre>KNeighborsClassifier()</pre><b>In a Jupyter environment, please rerun this cell to show the HTML representation or trust the notebook. <br />On GitHub, the HTML representation is unable to render, please try loading this page with nbviewer.org.</b></div><div class=\"sk-container\" hidden><div class=\"sk-item\"><div class=\"sk-estimator sk-toggleable\"><input class=\"sk-toggleable__control sk-hidden--visually\" id=\"sk-estimator-id-1\" type=\"checkbox\" checked><label for=\"sk-estimator-id-1\" class=\"sk-toggleable__label sk-toggleable__label-arrow\">KNeighborsClassifier</label><div class=\"sk-toggleable__content\"><pre>KNeighborsClassifier()</pre></div></div></div></div></div>"
      ],
      "text/plain": [
       "KNeighborsClassifier()"
      ]
     },
     "execution_count": 11,
     "metadata": {},
     "output_type": "execute_result"
    }
   ],
   "source": [
    "knn.fit(X_train,y_train)"
   ]
  },
  {
   "cell_type": "code",
   "execution_count": 12,
   "id": "62fe751c",
   "metadata": {},
   "outputs": [
    {
     "data": {
      "text/plain": [
       "0.812199036918138"
      ]
     },
     "execution_count": 12,
     "metadata": {},
     "output_type": "execute_result"
    }
   ],
   "source": [
    "knn.score(X_train,y_train)"
   ]
  },
  {
   "cell_type": "code",
   "execution_count": 13,
   "id": "53503ab4",
   "metadata": {},
   "outputs": [
    {
     "data": {
      "text/plain": [
       "0.7276119402985075"
      ]
     },
     "execution_count": 13,
     "metadata": {},
     "output_type": "execute_result"
    }
   ],
   "source": [
    "knn.score(X_validate,y_validate)"
   ]
  },
  {
   "cell_type": "code",
   "execution_count": 14,
   "id": "6fdf1212",
   "metadata": {},
   "outputs": [],
   "source": [
    "num_neighbors = []\n",
    "train_accuracy = []\n",
    "val_accuracy = []\n",
    "\n",
    "for i in range(1,11,2):\n",
    "    knn = KNeighborsClassifier(n_neighbors=i)\n",
    "    knn.fit(X_train,y_train)\n",
    "    num_neighbors.append(i)\n",
    "    train_accuracy.append(knn.score(X_train,y_train))\n",
    "    val_accuracy.append(knn.score(X_validate,y_validate))"
   ]
  },
  {
   "cell_type": "code",
   "execution_count": 38,
   "id": "62491fa7",
   "metadata": {},
   "outputs": [
    {
     "data": {
      "text/html": [
       "<div>\n",
       "<style scoped>\n",
       "    .dataframe tbody tr th:only-of-type {\n",
       "        vertical-align: middle;\n",
       "    }\n",
       "\n",
       "    .dataframe tbody tr th {\n",
       "        vertical-align: top;\n",
       "    }\n",
       "\n",
       "    .dataframe thead th {\n",
       "        text-align: right;\n",
       "    }\n",
       "</style>\n",
       "<table border=\"1\" class=\"dataframe\">\n",
       "  <thead>\n",
       "    <tr style=\"text-align: right;\">\n",
       "      <th></th>\n",
       "      <th>neighbors</th>\n",
       "      <th>train_accuracy</th>\n",
       "      <th>val_accuracy</th>\n",
       "    </tr>\n",
       "  </thead>\n",
       "  <tbody>\n",
       "    <tr>\n",
       "      <th>0</th>\n",
       "      <td>1</td>\n",
       "      <td>0.913323</td>\n",
       "      <td>0.697761</td>\n",
       "    </tr>\n",
       "    <tr>\n",
       "      <th>1</th>\n",
       "      <td>3</td>\n",
       "      <td>0.845907</td>\n",
       "      <td>0.690299</td>\n",
       "    </tr>\n",
       "    <tr>\n",
       "      <th>2</th>\n",
       "      <td>5</td>\n",
       "      <td>0.812199</td>\n",
       "      <td>0.727612</td>\n",
       "    </tr>\n",
       "    <tr>\n",
       "      <th>3</th>\n",
       "      <td>7</td>\n",
       "      <td>0.789727</td>\n",
       "      <td>0.727612</td>\n",
       "    </tr>\n",
       "    <tr>\n",
       "      <th>4</th>\n",
       "      <td>9</td>\n",
       "      <td>0.776886</td>\n",
       "      <td>0.708955</td>\n",
       "    </tr>\n",
       "  </tbody>\n",
       "</table>\n",
       "</div>"
      ],
      "text/plain": [
       "   neighbors  train_accuracy  val_accuracy\n",
       "0          1        0.913323      0.697761\n",
       "1          3        0.845907      0.690299\n",
       "2          5        0.812199      0.727612\n",
       "3          7        0.789727      0.727612\n",
       "4          9        0.776886      0.708955"
      ]
     },
     "execution_count": 38,
     "metadata": {},
     "output_type": "execute_result"
    }
   ],
   "source": [
    "knn_peformance = pd.DataFrame({'neighbors':num_neighbors,\n",
    "             'train_accuracy':train_accuracy,\n",
    "             'val_accuracy':val_accuracy})\n",
    "knn_peformance"
   ]
  },
  {
   "cell_type": "code",
   "execution_count": 17,
   "id": "931f525e",
   "metadata": {},
   "outputs": [
    {
     "data": {
      "image/png": "[encoded data removed]",
      "text/plain": [
       "<Figure size 640x480 with 1 Axes>"
      ]
     },
     "metadata": {},
     "output_type": "display_data"
    }
   ],
   "source": [
    "plt.plot(knn_peformance.neighbors, knn_peformance.train_acc, marker = 'o', label = 'Train')\n",
    "plt.plot(knn_peformance.neighbors, knn_peformance.val_acc, marker = 'o', label = 'Validate')\n",
    "plt.title('Overfitting Max Depth')\n",
    "plt.xlabel('Max Neighbors')\n",
    "plt.ylabel('Accuracy')\n",
    "plt.legend()\n",
    "plt.show()"
   ]
  },
  {
   "cell_type": "code",
   "execution_count": 39,
   "id": "24015def",
   "metadata": {},
   "outputs": [],
   "source": [
    "y_pred = knn.predict(X_train)"
   ]
  },
  {
   "cell_type": "markdown",
   "id": "ea245f44",
   "metadata": {},
   "source": [
    "#### 2. Evaluate your results using the model score, confusion matrix, and classification report."
   ]
  },
  {
   "cell_type": "code",
   "execution_count": 19,
   "id": "3433d06d",
   "metadata": {},
   "outputs": [
    {
     "data": {
      "text/plain": [
       "0.7768860353130016"
      ]
     },
     "execution_count": 19,
     "metadata": {},
     "output_type": "execute_result"
    }
   ],
   "source": [
    "knn.score(X_train,y_train)"
   ]
  },
  {
   "cell_type": "code",
   "execution_count": 20,
   "id": "0de471df",
   "metadata": {},
   "outputs": [
    {
     "data": {
      "text/plain": [
       "array([[319,  65],\n",
       "       [ 74, 165]])"
      ]
     },
     "execution_count": 20,
     "metadata": {},
     "output_type": "execute_result"
    }
   ],
   "source": [
    "confusion_matrix(y_train, y_pred)"
   ]
  },
  {
   "cell_type": "code",
   "execution_count": 21,
   "id": "55b2747a",
   "metadata": {},
   "outputs": [
    {
     "name": "stdout",
     "output_type": "stream",
     "text": [
      "              precision    recall  f1-score   support\n",
      "\n",
      "           0       0.81      0.83      0.82       384\n",
      "           1       0.72      0.69      0.70       239\n",
      "\n",
      "    accuracy                           0.78       623\n",
      "   macro avg       0.76      0.76      0.76       623\n",
      "weighted avg       0.78      0.78      0.78       623\n",
      "\n"
     ]
    }
   ],
   "source": [
    "print(classification_report(y_train,y_pred))"
   ]
  },
  {
   "cell_type": "code",
   "execution_count": 25,
   "id": "fa554a81",
   "metadata": {},
   "outputs": [
    {
     "data": {
      "image/png": "[encoded data removed]",
      "text/plain": [
       "<Figure size 640x480 with 2 Axes>"
      ]
     },
     "metadata": {},
     "output_type": "display_data"
    }
   ],
   "source": [
    "plot_confusion_matrix(knn, X_train, y_train)\n",
    "plt.show()"
   ]
  },
  {
   "cell_type": "markdown",
   "id": "f0795a39",
   "metadata": {},
   "source": [
    "#### 3. Print and clearly label the following: Accuracy, true positive rate, false positive rate, true negative rate, false negative rate, precision, recall, f1-score, and support."
   ]
  },
  {
   "cell_type": "code",
   "execution_count": 16,
   "id": "a446731b",
   "metadata": {},
   "outputs": [],
   "source": [
    "def get_metrics(X_train, y_train):\n",
    "    y_pred = knn.predict(X_train)\n",
    "    \n",
    "    TN, FP, FN, TP = confusion_matrix(y_train, y_pred).ravel()\n",
    "    ALL = TP + FP + FN + TN\n",
    "    accuracy = (TP + TN)/ALL\n",
    "\n",
    "    true_pos_rate = TP/(FN+TP)\n",
    "    false_pos_rate = FP/(TN+FP)\n",
    "    true_neg_rate = TN/(TN+FP)\n",
    "    false_neg_rate = FN/(TP+FN)\n",
    "\n",
    "    precision = TP/(TP+FP)\n",
    "    recall = TP/(TP+FN)\n",
    "    f1_formula = TP/(TP+(.5*(FP+FN)))\n",
    "    support_pos = TP + FN\n",
    "    support_neg = FP + TN\n",
    "    \n",
    "    print(f\"Accuracy: {accuracy:.2f}\")\n",
    "    print(f\"True Positive Rate: {true_pos_rate:.2f}\")\n",
    "    print(f\"False Positive Rate: {false_pos_rate:.2f}\")\n",
    "    print(f\"True Negative Rate: {true_neg_rate:.2f}\")\n",
    "    print(f\"False Negative Rate: {false_neg_rate:.2f}\")\n",
    "    print(f\"Precision: {precision:.2f}\")\n",
    "    print(f\"Recall: {recall:.2f}\")\n",
    "    print(f\"F1: {f1_formula:.2f}\")\n",
    "    print(f\"Support: {support_pos}\")"
   ]
  },
  {
   "cell_type": "code",
   "execution_count": 50,
   "id": "45565f53",
   "metadata": {},
   "outputs": [],
   "source": [
    "TN, FP, FN, TP = confusion_matrix(y_train, y_pred).ravel()\n",
    "ALL = TP + FP + FN + TN\n",
    "accuracy = (TP + TN)/ALL\n",
    "\n",
    "true_pos_rate = TP/(FN+TP)\n",
    "false_pos_rate = FP/(TN+FP)\n",
    "true_neg_rate = TN/(TN+FP)\n",
    "false_neg_rate = FN/(TP+FN)\n",
    "\n",
    "precision = TP/(TP+FP)\n",
    "recall = TP/(TP+FN)\n",
    "f1_formula = TP/(TP+(.5*(FP+FN)))\n",
    "support_pos = TP + FN\n",
    "support_neg = FP + TN\n",
    "f1_score = 2 * (precision*recall) / (precision+recall)"
   ]
  },
  {
   "cell_type": "code",
   "execution_count": 63,
   "id": "c1f39442",
   "metadata": {},
   "outputs": [
    {
     "name": "stdout",
     "output_type": "stream",
     "text": [
      "Accuracy: 0.78\n",
      "True Positive Rate: 0.69\n",
      "False Positive Rate: 0.17\n",
      "True Negative Rate: 0.83\n",
      "False Negative Rate: 0.31\n",
      "Precision: 0.72\n",
      "Recall: 0.69\n",
      "F1: 0.70\n",
      "Support: 239\n"
     ]
    }
   ],
   "source": [
    "get_metrics(X_train,y_train)"
   ]
  },
  {
   "cell_type": "markdown",
   "id": "da341be9",
   "metadata": {},
   "source": [
    "#### 4. Run through steps 1-3 setting k to 10"
   ]
  },
  {
   "cell_type": "code",
   "execution_count": 17,
   "id": "2b01ec12",
   "metadata": {},
   "outputs": [
    {
     "name": "stdout",
     "output_type": "stream",
     "text": [
      "Using 1 neighbors: \n",
      "Accuracy: 0.91\n",
      "True Positive Rate: 0.85\n",
      "False Positive Rate: 0.04\n",
      "True Negative Rate: 0.96\n",
      "False Negative Rate: 0.15\n",
      "Precision: 0.92\n",
      "Recall: 0.85\n",
      "F1: 0.88\n",
      "Support: 239\n",
      "\n",
      "Using 3 neighbors: \n",
      "Accuracy: 0.85\n",
      "True Positive Rate: 0.77\n",
      "False Positive Rate: 0.11\n",
      "True Negative Rate: 0.89\n",
      "False Negative Rate: 0.23\n",
      "Precision: 0.82\n",
      "Recall: 0.77\n",
      "F1: 0.79\n",
      "Support: 239\n",
      "\n",
      "Using 5 neighbors: \n",
      "Accuracy: 0.81\n",
      "True Positive Rate: 0.70\n",
      "False Positive Rate: 0.12\n",
      "True Negative Rate: 0.88\n",
      "False Negative Rate: 0.30\n",
      "Precision: 0.79\n",
      "Recall: 0.70\n",
      "F1: 0.74\n",
      "Support: 239\n",
      "\n",
      "Using 7 neighbors: \n",
      "Accuracy: 0.79\n",
      "True Positive Rate: 0.68\n",
      "False Positive Rate: 0.14\n",
      "True Negative Rate: 0.86\n",
      "False Negative Rate: 0.32\n",
      "Precision: 0.75\n",
      "Recall: 0.68\n",
      "F1: 0.71\n",
      "Support: 239\n",
      "\n",
      "Using 9 neighbors: \n",
      "Accuracy: 0.78\n",
      "True Positive Rate: 0.69\n",
      "False Positive Rate: 0.17\n",
      "True Negative Rate: 0.83\n",
      "False Negative Rate: 0.31\n",
      "Precision: 0.72\n",
      "Recall: 0.69\n",
      "F1: 0.70\n",
      "Support: 239\n",
      "\n",
      "Using 11 neighbors: \n",
      "Accuracy: 0.79\n",
      "True Positive Rate: 0.69\n",
      "False Positive Rate: 0.15\n",
      "True Negative Rate: 0.85\n",
      "False Negative Rate: 0.31\n",
      "Precision: 0.75\n",
      "Recall: 0.69\n",
      "F1: 0.71\n",
      "Support: 239\n",
      "\n"
     ]
    }
   ],
   "source": [
    "num_neighbors = []\n",
    "train_accuracy = []\n",
    "val_accuracy = []\n",
    "\n",
    "for i in range(1,13,2):\n",
    "    knn = KNeighborsClassifier(n_neighbors=i)\n",
    "    knn.fit(X_train,y_train)\n",
    "    num_neighbors.append(i)\n",
    "    train_accuracy.append(knn.score(X_train,y_train))\n",
    "    val_accuracy.append(knn.score(X_validate,y_validate))\n",
    "    print(f\"Using {i} neighbors: \")\n",
    "    get_metrics(X_train,y_train)\n",
    "    print()"
   ]
  },
  {
   "cell_type": "markdown",
   "id": "1c31e09c",
   "metadata": {},
   "source": [
    "#### 5. Run through steps 1-3 setting k to 20"
   ]
  },
  {
   "cell_type": "code",
   "execution_count": 69,
   "id": "41b23139",
   "metadata": {},
   "outputs": [
    {
     "name": "stdout",
     "output_type": "stream",
     "text": [
      "Using 1 neighbors: \n",
      "Accuracy: 0.91\n",
      "True Positive Rate: 0.85\n",
      "False Positive Rate: 0.04\n",
      "True Negative Rate: 0.96\n",
      "False Negative Rate: 0.15\n",
      "Precision: 0.92\n",
      "Recall: 0.85\n",
      "F1: 0.88\n",
      "Support: 239\n",
      "\n",
      "Using 3 neighbors: \n",
      "Accuracy: 0.85\n",
      "True Positive Rate: 0.77\n",
      "False Positive Rate: 0.11\n",
      "True Negative Rate: 0.89\n",
      "False Negative Rate: 0.23\n",
      "Precision: 0.82\n",
      "Recall: 0.77\n",
      "F1: 0.79\n",
      "Support: 239\n",
      "\n",
      "Using 5 neighbors: \n",
      "Accuracy: 0.81\n",
      "True Positive Rate: 0.70\n",
      "False Positive Rate: 0.12\n",
      "True Negative Rate: 0.88\n",
      "False Negative Rate: 0.30\n",
      "Precision: 0.79\n",
      "Recall: 0.70\n",
      "F1: 0.74\n",
      "Support: 239\n",
      "\n",
      "Using 7 neighbors: \n",
      "Accuracy: 0.79\n",
      "True Positive Rate: 0.68\n",
      "False Positive Rate: 0.14\n",
      "True Negative Rate: 0.86\n",
      "False Negative Rate: 0.32\n",
      "Precision: 0.75\n",
      "Recall: 0.68\n",
      "F1: 0.71\n",
      "Support: 239\n",
      "\n",
      "Using 9 neighbors: \n",
      "Accuracy: 0.78\n",
      "True Positive Rate: 0.69\n",
      "False Positive Rate: 0.17\n",
      "True Negative Rate: 0.83\n",
      "False Negative Rate: 0.31\n",
      "Precision: 0.72\n",
      "Recall: 0.69\n",
      "F1: 0.70\n",
      "Support: 239\n",
      "\n",
      "Using 11 neighbors: \n",
      "Accuracy: 0.79\n",
      "True Positive Rate: 0.69\n",
      "False Positive Rate: 0.15\n",
      "True Negative Rate: 0.85\n",
      "False Negative Rate: 0.31\n",
      "Precision: 0.75\n",
      "Recall: 0.69\n",
      "F1: 0.71\n",
      "Support: 239\n",
      "\n",
      "Using 13 neighbors: \n",
      "Accuracy: 0.77\n",
      "True Positive Rate: 0.67\n",
      "False Positive Rate: 0.17\n",
      "True Negative Rate: 0.83\n",
      "False Negative Rate: 0.33\n",
      "Precision: 0.71\n",
      "Recall: 0.67\n",
      "F1: 0.69\n",
      "Support: 239\n",
      "\n",
      "Using 15 neighbors: \n",
      "Accuracy: 0.75\n",
      "True Positive Rate: 0.64\n",
      "False Positive Rate: 0.18\n",
      "True Negative Rate: 0.82\n",
      "False Negative Rate: 0.36\n",
      "Precision: 0.69\n",
      "Recall: 0.64\n",
      "F1: 0.66\n",
      "Support: 239\n",
      "\n",
      "Using 17 neighbors: \n",
      "Accuracy: 0.75\n",
      "True Positive Rate: 0.64\n",
      "False Positive Rate: 0.19\n",
      "True Negative Rate: 0.81\n",
      "False Negative Rate: 0.36\n",
      "Precision: 0.68\n",
      "Recall: 0.64\n",
      "F1: 0.66\n",
      "Support: 239\n",
      "\n",
      "Using 19 neighbors: \n",
      "Accuracy: 0.75\n",
      "True Positive Rate: 0.58\n",
      "False Positive Rate: 0.14\n",
      "True Negative Rate: 0.86\n",
      "False Negative Rate: 0.42\n",
      "Precision: 0.72\n",
      "Recall: 0.58\n",
      "F1: 0.64\n",
      "Support: 239\n",
      "\n",
      "Using 21 neighbors: \n",
      "Accuracy: 0.75\n",
      "True Positive Rate: 0.57\n",
      "False Positive Rate: 0.14\n",
      "True Negative Rate: 0.86\n",
      "False Negative Rate: 0.43\n",
      "Precision: 0.71\n",
      "Recall: 0.57\n",
      "F1: 0.64\n",
      "Support: 239\n",
      "\n"
     ]
    }
   ],
   "source": [
    "num_neighbors = []\n",
    "train_accuracy = []\n",
    "val_accuracy = []\n",
    "\n",
    "for i in range(1,23,2):\n",
    "    knn = KNeighborsClassifier(n_neighbors=i)\n",
    "    knn.fit(X_train,y_train)\n",
    "    num_neighbors.append(i)\n",
    "    train_accuracy.append(knn.score(X_train,y_train))\n",
    "    val_accuracy.append(knn.score(X_validate,y_validate))\n",
    "    print(f\"Using {i} neighbors: \")\n",
    "    get_metrics(X_train,y_train)\n",
    "    print()"
   ]
  },
  {
   "cell_type": "markdown",
   "id": "fdab249f",
   "metadata": {},
   "source": [
    "#### 6. What are the differences in the evaluation metrics? Which performs better on your in-sample data? Why?"
   ]
  },
  {
   "cell_type": "code",
   "execution_count": 19,
   "id": "c0cce9b5",
   "metadata": {},
   "outputs": [
    {
     "data": {
      "text/html": [
       "<div>\n",
       "<style scoped>\n",
       "    .dataframe tbody tr th:only-of-type {\n",
       "        vertical-align: middle;\n",
       "    }\n",
       "\n",
       "    .dataframe tbody tr th {\n",
       "        vertical-align: top;\n",
       "    }\n",
       "\n",
       "    .dataframe thead th {\n",
       "        text-align: right;\n",
       "    }\n",
       "</style>\n",
       "<table border=\"1\" class=\"dataframe\">\n",
       "  <thead>\n",
       "    <tr style=\"text-align: right;\">\n",
       "      <th></th>\n",
       "      <th>neighbors</th>\n",
       "      <th>train_accuracy</th>\n",
       "      <th>val_accuracy</th>\n",
       "    </tr>\n",
       "  </thead>\n",
       "  <tbody>\n",
       "    <tr>\n",
       "      <th>0</th>\n",
       "      <td>1</td>\n",
       "      <td>0.913323</td>\n",
       "      <td>0.697761</td>\n",
       "    </tr>\n",
       "    <tr>\n",
       "      <th>1</th>\n",
       "      <td>3</td>\n",
       "      <td>0.845907</td>\n",
       "      <td>0.690299</td>\n",
       "    </tr>\n",
       "    <tr>\n",
       "      <th>2</th>\n",
       "      <td>5</td>\n",
       "      <td>0.812199</td>\n",
       "      <td>0.727612</td>\n",
       "    </tr>\n",
       "    <tr>\n",
       "      <th>3</th>\n",
       "      <td>7</td>\n",
       "      <td>0.789727</td>\n",
       "      <td>0.727612</td>\n",
       "    </tr>\n",
       "    <tr>\n",
       "      <th>4</th>\n",
       "      <td>9</td>\n",
       "      <td>0.776886</td>\n",
       "      <td>0.708955</td>\n",
       "    </tr>\n",
       "    <tr>\n",
       "      <th>5</th>\n",
       "      <td>11</td>\n",
       "      <td>0.789727</td>\n",
       "      <td>0.708955</td>\n",
       "    </tr>\n",
       "  </tbody>\n",
       "</table>\n",
       "</div>"
      ],
      "text/plain": [
       "   neighbors  train_accuracy  val_accuracy\n",
       "0          1        0.913323      0.697761\n",
       "1          3        0.845907      0.690299\n",
       "2          5        0.812199      0.727612\n",
       "3          7        0.789727      0.727612\n",
       "4          9        0.776886      0.708955\n",
       "5         11        0.789727      0.708955"
      ]
     },
     "execution_count": 19,
     "metadata": {},
     "output_type": "execute_result"
    }
   ],
   "source": [
    "knn_peformance = pd.DataFrame({'neighbors':num_neighbors,\n",
    "             'train_accuracy':train_accuracy,\n",
    "             'val_accuracy':val_accuracy})\n",
    "knn_peformance"
   ]
  },
  {
   "cell_type": "code",
   "execution_count": 20,
   "id": "606c8146",
   "metadata": {},
   "outputs": [
    {
     "data": {
      "image/png": "[encoded data removed]",
      "text/plain": [
       "<Figure size 640x480 with 1 Axes>"
      ]
     },
     "metadata": {},
     "output_type": "display_data"
    }
   ],
   "source": [
    "plt.plot(knn_peformance.neighbors, knn_peformance.train_accuracy, marker = 'o', label = 'Train')\n",
    "plt.plot(knn_peformance.neighbors, knn_peformance.val_accuracy, marker = 'o', label = 'Validate')\n",
    "plt.title('Overfitting Max Depth')\n",
    "plt.xlabel('Max Neighbors')\n",
    "plt.ylabel('Accuracy')\n",
    "plt.legend()\n",
    "plt.show()"
   ]
  },
  {
   "cell_type": "markdown",
   "id": "9f105522",
   "metadata": {},
   "source": [
    "#### 7. Which model performs best on our out-of-sample data from validate?"
   ]
  },
  {
   "cell_type": "code",
   "execution_count": 21,
   "id": "8118eba7",
   "metadata": {},
   "outputs": [
    {
     "name": "stdout",
     "output_type": "stream",
     "text": [
      "Using 1 neighbors: \n",
      "Train Accuracy: 0.913322632423756\n",
      "Validate Accuracy: 0.6977611940298507\n",
      "\n",
      "Using 3 neighbors: \n",
      "Train Accuracy: 0.8459069020866774\n",
      "Validate Accuracy: 0.6902985074626866\n",
      "\n",
      "Using 5 neighbors: \n",
      "Train Accuracy: 0.812199036918138\n",
      "Validate Accuracy: 0.7276119402985075\n",
      "\n",
      "Using 7 neighbors: \n",
      "Train Accuracy: 0.7897271268057785\n",
      "Validate Accuracy: 0.7276119402985075\n",
      "\n",
      "Using 9 neighbors: \n",
      "Train Accuracy: 0.7768860353130016\n",
      "Validate Accuracy: 0.7089552238805971\n",
      "\n",
      "Using 11 neighbors: \n",
      "Train Accuracy: 0.7897271268057785\n",
      "Validate Accuracy: 0.7089552238805971\n",
      "\n",
      "Using 13 neighbors: \n",
      "Train Accuracy: 0.7688603531300161\n",
      "Validate Accuracy: 0.6865671641791045\n",
      "\n",
      "Using 15 neighbors: \n",
      "Train Accuracy: 0.7495987158908507\n",
      "Validate Accuracy: 0.6716417910447762\n",
      "\n",
      "Using 17 neighbors: \n",
      "Train Accuracy: 0.7479935794542536\n",
      "Validate Accuracy: 0.6828358208955224\n",
      "\n",
      "Using 19 neighbors: \n",
      "Train Accuracy: 0.7512038523274478\n",
      "Validate Accuracy: 0.7014925373134329\n",
      "\n",
      "Using 21 neighbors: \n",
      "Train Accuracy: 0.7479935794542536\n",
      "Validate Accuracy: 0.7238805970149254\n",
      "\n",
      "Using 23 neighbors: \n",
      "Train Accuracy: 0.7431781701444623\n",
      "Validate Accuracy: 0.7238805970149254\n",
      "\n",
      "Using 25 neighbors: \n",
      "Train Accuracy: 0.7463884430176565\n",
      "Validate Accuracy: 0.7126865671641791\n",
      "\n",
      "Using 27 neighbors: \n",
      "Train Accuracy: 0.723916532905297\n",
      "Validate Accuracy: 0.7014925373134329\n",
      "\n",
      "Using 29 neighbors: \n",
      "Train Accuracy: 0.7255216693418941\n",
      "Validate Accuracy: 0.6865671641791045\n",
      "\n",
      "Using 31 neighbors: \n",
      "Train Accuracy: 0.7191011235955056\n",
      "Validate Accuracy: 0.6791044776119403\n",
      "\n",
      "Using 33 neighbors: \n",
      "Train Accuracy: 0.6966292134831461\n",
      "Validate Accuracy: 0.667910447761194\n",
      "\n",
      "Using 35 neighbors: \n",
      "Train Accuracy: 0.680577849117175\n",
      "Validate Accuracy: 0.6753731343283582\n",
      "\n",
      "Using 37 neighbors: \n",
      "Train Accuracy: 0.6886035313001605\n",
      "Validate Accuracy: 0.6716417910447762\n",
      "\n",
      "Using 39 neighbors: \n",
      "Train Accuracy: 0.6789727126805778\n",
      "Validate Accuracy: 0.6604477611940298\n",
      "\n",
      "Using 41 neighbors: \n",
      "Train Accuracy: 0.6821829855537721\n",
      "Validate Accuracy: 0.6791044776119403\n",
      "\n",
      "Using 43 neighbors: \n",
      "Train Accuracy: 0.6902086677367576\n",
      "Validate Accuracy: 0.6753731343283582\n",
      "\n",
      "Using 45 neighbors: \n",
      "Train Accuracy: 0.6918138041733547\n",
      "Validate Accuracy: 0.6791044776119403\n",
      "\n",
      "Using 47 neighbors: \n",
      "Train Accuracy: 0.6982343499197432\n",
      "Validate Accuracy: 0.6753731343283582\n",
      "\n",
      "Using 49 neighbors: \n",
      "Train Accuracy: 0.6886035313001605\n",
      "Validate Accuracy: 0.6828358208955224\n",
      "\n",
      "Using 51 neighbors: \n",
      "Train Accuracy: 0.6821829855537721\n",
      "Validate Accuracy: 0.6865671641791045\n",
      "\n",
      "Using 53 neighbors: \n",
      "Train Accuracy: 0.6934189406099518\n",
      "Validate Accuracy: 0.7052238805970149\n",
      "\n"
     ]
    }
   ],
   "source": [
    "num_neighbors = []\n",
    "train_accuracy = []\n",
    "val_accuracy = []\n",
    "\n",
    "for i in range(1,55,2):\n",
    "    knn = KNeighborsClassifier(n_neighbors=i)\n",
    "    knn.fit(X_train,y_train)\n",
    "    num_neighbors.append(i)\n",
    "    train_accuracy.append(knn.score(X_train,y_train))\n",
    "    val_accuracy.append(knn.score(X_validate,y_validate))\n",
    "    print(f\"Using {i} neighbors: \")\n",
    "    print(f\"Train Accuracy: {knn.score(X_train,y_train)}\")\n",
    "    print(f\"Validate Accuracy: {knn.score(X_validate,y_validate)}\")\n",
    "    print()"
   ]
  },
  {
   "cell_type": "code",
   "execution_count": 22,
   "id": "d0f167bf",
   "metadata": {},
   "outputs": [],
   "source": [
    "knn_peformance = pd.DataFrame({'neighbors':num_neighbors,\n",
    "             'train_accuracy':train_accuracy,\n",
    "             'val_accuracy':val_accuracy})\n",
    "knn_peformance['difference']=knn_peformance['train_accuracy']-knn_peformance['val_accuracy']"
   ]
  },
  {
   "cell_type": "code",
   "execution_count": 23,
   "id": "208ecb40",
   "metadata": {},
   "outputs": [
    {
     "data": {
      "text/html": [
       "<div>\n",
       "<style scoped>\n",
       "    .dataframe tbody tr th:only-of-type {\n",
       "        vertical-align: middle;\n",
       "    }\n",
       "\n",
       "    .dataframe tbody tr th {\n",
       "        vertical-align: top;\n",
       "    }\n",
       "\n",
       "    .dataframe thead th {\n",
       "        text-align: right;\n",
       "    }\n",
       "</style>\n",
       "<table border=\"1\" class=\"dataframe\">\n",
       "  <thead>\n",
       "    <tr style=\"text-align: right;\">\n",
       "      <th></th>\n",
       "      <th>neighbors</th>\n",
       "      <th>train_accuracy</th>\n",
       "      <th>val_accuracy</th>\n",
       "      <th>difference</th>\n",
       "    </tr>\n",
       "  </thead>\n",
       "  <tbody>\n",
       "    <tr>\n",
       "      <th>0</th>\n",
       "      <td>1</td>\n",
       "      <td>0.913323</td>\n",
       "      <td>0.697761</td>\n",
       "      <td>0.215561</td>\n",
       "    </tr>\n",
       "    <tr>\n",
       "      <th>1</th>\n",
       "      <td>3</td>\n",
       "      <td>0.845907</td>\n",
       "      <td>0.690299</td>\n",
       "      <td>0.155608</td>\n",
       "    </tr>\n",
       "    <tr>\n",
       "      <th>2</th>\n",
       "      <td>5</td>\n",
       "      <td>0.812199</td>\n",
       "      <td>0.727612</td>\n",
       "      <td>0.084587</td>\n",
       "    </tr>\n",
       "    <tr>\n",
       "      <th>3</th>\n",
       "      <td>7</td>\n",
       "      <td>0.789727</td>\n",
       "      <td>0.727612</td>\n",
       "      <td>0.062115</td>\n",
       "    </tr>\n",
       "    <tr>\n",
       "      <th>4</th>\n",
       "      <td>9</td>\n",
       "      <td>0.776886</td>\n",
       "      <td>0.708955</td>\n",
       "      <td>0.067931</td>\n",
       "    </tr>\n",
       "    <tr>\n",
       "      <th>5</th>\n",
       "      <td>11</td>\n",
       "      <td>0.789727</td>\n",
       "      <td>0.708955</td>\n",
       "      <td>0.080772</td>\n",
       "    </tr>\n",
       "    <tr>\n",
       "      <th>6</th>\n",
       "      <td>13</td>\n",
       "      <td>0.768860</td>\n",
       "      <td>0.686567</td>\n",
       "      <td>0.082293</td>\n",
       "    </tr>\n",
       "    <tr>\n",
       "      <th>7</th>\n",
       "      <td>15</td>\n",
       "      <td>0.749599</td>\n",
       "      <td>0.671642</td>\n",
       "      <td>0.077957</td>\n",
       "    </tr>\n",
       "    <tr>\n",
       "      <th>8</th>\n",
       "      <td>17</td>\n",
       "      <td>0.747994</td>\n",
       "      <td>0.682836</td>\n",
       "      <td>0.065158</td>\n",
       "    </tr>\n",
       "    <tr>\n",
       "      <th>9</th>\n",
       "      <td>19</td>\n",
       "      <td>0.751204</td>\n",
       "      <td>0.701493</td>\n",
       "      <td>0.049711</td>\n",
       "    </tr>\n",
       "    <tr>\n",
       "      <th>10</th>\n",
       "      <td>21</td>\n",
       "      <td>0.747994</td>\n",
       "      <td>0.723881</td>\n",
       "      <td>0.024113</td>\n",
       "    </tr>\n",
       "    <tr>\n",
       "      <th>11</th>\n",
       "      <td>23</td>\n",
       "      <td>0.743178</td>\n",
       "      <td>0.723881</td>\n",
       "      <td>0.019298</td>\n",
       "    </tr>\n",
       "    <tr>\n",
       "      <th>12</th>\n",
       "      <td>25</td>\n",
       "      <td>0.746388</td>\n",
       "      <td>0.712687</td>\n",
       "      <td>0.033702</td>\n",
       "    </tr>\n",
       "    <tr>\n",
       "      <th>13</th>\n",
       "      <td>27</td>\n",
       "      <td>0.723917</td>\n",
       "      <td>0.701493</td>\n",
       "      <td>0.022424</td>\n",
       "    </tr>\n",
       "    <tr>\n",
       "      <th>14</th>\n",
       "      <td>29</td>\n",
       "      <td>0.725522</td>\n",
       "      <td>0.686567</td>\n",
       "      <td>0.038955</td>\n",
       "    </tr>\n",
       "    <tr>\n",
       "      <th>15</th>\n",
       "      <td>31</td>\n",
       "      <td>0.719101</td>\n",
       "      <td>0.679104</td>\n",
       "      <td>0.039997</td>\n",
       "    </tr>\n",
       "    <tr>\n",
       "      <th>16</th>\n",
       "      <td>33</td>\n",
       "      <td>0.696629</td>\n",
       "      <td>0.667910</td>\n",
       "      <td>0.028719</td>\n",
       "    </tr>\n",
       "    <tr>\n",
       "      <th>17</th>\n",
       "      <td>35</td>\n",
       "      <td>0.680578</td>\n",
       "      <td>0.675373</td>\n",
       "      <td>0.005205</td>\n",
       "    </tr>\n",
       "    <tr>\n",
       "      <th>18</th>\n",
       "      <td>37</td>\n",
       "      <td>0.688604</td>\n",
       "      <td>0.671642</td>\n",
       "      <td>0.016962</td>\n",
       "    </tr>\n",
       "    <tr>\n",
       "      <th>19</th>\n",
       "      <td>39</td>\n",
       "      <td>0.678973</td>\n",
       "      <td>0.660448</td>\n",
       "      <td>0.018525</td>\n",
       "    </tr>\n",
       "    <tr>\n",
       "      <th>20</th>\n",
       "      <td>41</td>\n",
       "      <td>0.682183</td>\n",
       "      <td>0.679104</td>\n",
       "      <td>0.003079</td>\n",
       "    </tr>\n",
       "    <tr>\n",
       "      <th>21</th>\n",
       "      <td>43</td>\n",
       "      <td>0.690209</td>\n",
       "      <td>0.675373</td>\n",
       "      <td>0.014836</td>\n",
       "    </tr>\n",
       "    <tr>\n",
       "      <th>22</th>\n",
       "      <td>45</td>\n",
       "      <td>0.691814</td>\n",
       "      <td>0.679104</td>\n",
       "      <td>0.012709</td>\n",
       "    </tr>\n",
       "    <tr>\n",
       "      <th>23</th>\n",
       "      <td>47</td>\n",
       "      <td>0.698234</td>\n",
       "      <td>0.675373</td>\n",
       "      <td>0.022861</td>\n",
       "    </tr>\n",
       "    <tr>\n",
       "      <th>24</th>\n",
       "      <td>49</td>\n",
       "      <td>0.688604</td>\n",
       "      <td>0.682836</td>\n",
       "      <td>0.005768</td>\n",
       "    </tr>\n",
       "    <tr>\n",
       "      <th>25</th>\n",
       "      <td>51</td>\n",
       "      <td>0.682183</td>\n",
       "      <td>0.686567</td>\n",
       "      <td>-0.004384</td>\n",
       "    </tr>\n",
       "    <tr>\n",
       "      <th>26</th>\n",
       "      <td>53</td>\n",
       "      <td>0.693419</td>\n",
       "      <td>0.705224</td>\n",
       "      <td>-0.011805</td>\n",
       "    </tr>\n",
       "  </tbody>\n",
       "</table>\n",
       "</div>"
      ],
      "text/plain": [
       "    neighbors  train_accuracy  val_accuracy  difference\n",
       "0           1        0.913323      0.697761    0.215561\n",
       "1           3        0.845907      0.690299    0.155608\n",
       "2           5        0.812199      0.727612    0.084587\n",
       "3           7        0.789727      0.727612    0.062115\n",
       "4           9        0.776886      0.708955    0.067931\n",
       "5          11        0.789727      0.708955    0.080772\n",
       "6          13        0.768860      0.686567    0.082293\n",
       "7          15        0.749599      0.671642    0.077957\n",
       "8          17        0.747994      0.682836    0.065158\n",
       "9          19        0.751204      0.701493    0.049711\n",
       "10         21        0.747994      0.723881    0.024113\n",
       "11         23        0.743178      0.723881    0.019298\n",
       "12         25        0.746388      0.712687    0.033702\n",
       "13         27        0.723917      0.701493    0.022424\n",
       "14         29        0.725522      0.686567    0.038955\n",
       "15         31        0.719101      0.679104    0.039997\n",
       "16         33        0.696629      0.667910    0.028719\n",
       "17         35        0.680578      0.675373    0.005205\n",
       "18         37        0.688604      0.671642    0.016962\n",
       "19         39        0.678973      0.660448    0.018525\n",
       "20         41        0.682183      0.679104    0.003079\n",
       "21         43        0.690209      0.675373    0.014836\n",
       "22         45        0.691814      0.679104    0.012709\n",
       "23         47        0.698234      0.675373    0.022861\n",
       "24         49        0.688604      0.682836    0.005768\n",
       "25         51        0.682183      0.686567   -0.004384\n",
       "26         53        0.693419      0.705224   -0.011805"
      ]
     },
     "execution_count": 23,
     "metadata": {},
     "output_type": "execute_result"
    }
   ],
   "source": [
    "knn_peformance"
   ]
  },
  {
   "cell_type": "code",
   "execution_count": 24,
   "id": "df1aac97",
   "metadata": {},
   "outputs": [
    {
     "data": {
      "image/png": "[encoded data removed]",
      "text/plain": [
       "<Figure size 640x480 with 1 Axes>"
      ]
     },
     "metadata": {},
     "output_type": "display_data"
    }
   ],
   "source": [
    "plt.plot(knn_peformance.neighbors, knn_peformance.train_accuracy, marker = 'o', label = 'Train')\n",
    "plt.plot(knn_peformance.neighbors, knn_peformance.val_accuracy, marker = 'o', label = 'Validate')\n",
    "plt.plot(knn_peformance.neighbors, knn_peformance.difference, marker = 'o', label = 'difference')\n",
    "\n",
    "plt.title('Overfitting Max Depth')\n",
    "plt.xlabel('Max Neighbors')\n",
    "plt.ylabel('Accuracy')\n",
    "plt.legend()\n",
    "plt.show()"
   ]
  }
 ],
 "metadata": {
  "kernelspec": {
   "display_name": "Python 3 (ipykernel)",
   "language": "python",
   "name": "python3"
  },
  "language_info": {
   "codemirror_mode": {
    "name": "ipython",
    "version": 3
   },
   "file_extension": ".py",
   "mimetype": "text/x-python",
   "name": "python",
   "nbconvert_exporter": "python",
   "pygments_lexer": "ipython3",
   "version": "3.9.13"
  }
 },
 "nbformat": 4,
 "nbformat_minor": 5
}
