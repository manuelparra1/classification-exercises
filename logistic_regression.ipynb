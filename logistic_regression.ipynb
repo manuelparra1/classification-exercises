{
 "cells": [
  {
   "cell_type": "code",
   "execution_count": 94,
   "id": "8d6aff9d",
   "metadata": {},
   "outputs": [],
   "source": [
    "import numpy as np\n",
    "import pandas as pd\n",
    "\n",
    "from sklearn.model_selection import train_test_split\n",
    "from sklearn.linear_model import LogisticRegression\n",
    "from sklearn.metrics import classification_report\n",
    "from sklearn.metrics import confusion_matrix\n",
    "from sklearn.impute import SimpleImputer\n",
    "# ignore warnings\n",
    "import warnings\n",
    "warnings.filterwarnings(\"ignore\")\n",
    "\n",
    "%matplotlib inline\n",
    "import matplotlib.pyplot as plt\n",
    "import seaborn as sns\n",
    "\n",
    "from pydataset import data\n",
    "\n",
    "import prepare\n",
    "import evaluate\n",
    "import acquire"
   ]
  },
  {
   "cell_type": "code",
   "execution_count": 5,
   "id": "be559fba",
   "metadata": {},
   "outputs": [],
   "source": [
    "# from sklearn.linear_model import LogisticRegression\n",
    "#logit = LogisticRegression(C=1, class_weight={0:1, 1:99}, random_state=123, intercept_scaling=1, solver='lbfgs')"
   ]
  },
  {
   "cell_type": "code",
   "execution_count": 8,
   "id": "824a5d12",
   "metadata": {},
   "outputs": [],
   "source": [
    "titanic = acquire.get_titanic_data()"
   ]
  },
  {
   "cell_type": "code",
   "execution_count": 9,
   "id": "d35633b9",
   "metadata": {},
   "outputs": [],
   "source": [
    "titanic = prepare.prep_titanic(titanic)\n",
    "titanic = titanic.drop(columns=['sex', 'embark_town','age'])"
   ]
  },
  {
   "cell_type": "code",
   "execution_count": 10,
   "id": "d2bda1c1",
   "metadata": {},
   "outputs": [],
   "source": [
    "train_validate, test = train_test_split(titanic,train_size=.8,random_state=123)\n",
    "train, validate = train_test_split(titanic,train_size=.7,random_state=123,stratify=titanic.survived)"
   ]
  },
  {
   "cell_type": "code",
   "execution_count": 11,
   "id": "26ab3237",
   "metadata": {},
   "outputs": [],
   "source": [
    "X_train = train.drop(columns=['survived'])\n",
    "y_train = train['survived']\n",
    "\n",
    "X_validate = validate.drop(columns=['survived'])\n",
    "y_validate = validate['survived']\n",
    "\n",
    "X_test = test.drop(columns=['survived'])\n",
    "y_test = test['survived']"
   ]
  },
  {
   "cell_type": "code",
   "execution_count": 12,
   "id": "af932b79",
   "metadata": {},
   "outputs": [
    {
     "data": {
      "text/plain": [
       "pclass                     0\n",
       "sibsp                      0\n",
       "parch                      0\n",
       "fare                       0\n",
       "alone                      0\n",
       "sex_male                   0\n",
       "embark_town_Queenstown     0\n",
       "embark_town_Southampton    0\n",
       "dtype: int64"
      ]
     },
     "execution_count": 12,
     "metadata": {},
     "output_type": "execute_result"
    }
   ],
   "source": [
    "X_train.isna().sum()"
   ]
  },
  {
   "cell_type": "markdown",
   "id": "c3731b8c",
   "metadata": {},
   "source": [
    "# Model 1"
   ]
  },
  {
   "cell_type": "code",
   "execution_count": 13,
   "id": "cc78a686",
   "metadata": {},
   "outputs": [],
   "source": [
    "seed = 42\n",
    "logit = LogisticRegression(random_state=seed)"
   ]
  },
  {
   "cell_type": "code",
   "execution_count": 14,
   "id": "5687e14d",
   "metadata": {},
   "outputs": [
    {
     "data": {
      "text/html": [
       "<style>#sk-container-id-1 {color: black;background-color: white;}#sk-container-id-1 pre{padding: 0;}#sk-container-id-1 div.sk-toggleable {background-color: white;}#sk-container-id-1 label.sk-toggleable__label {cursor: pointer;display: block;width: 100%;margin-bottom: 0;padding: 0.3em;box-sizing: border-box;text-align: center;}#sk-container-id-1 label.sk-toggleable__label-arrow:before {content: \"▸\";float: left;margin-right: 0.25em;color: #696969;}#sk-container-id-1 label.sk-toggleable__label-arrow:hover:before {color: black;}#sk-container-id-1 div.sk-estimator:hover label.sk-toggleable__label-arrow:before {color: black;}#sk-container-id-1 div.sk-toggleable__content {max-height: 0;max-width: 0;overflow: hidden;text-align: left;background-color: #f0f8ff;}#sk-container-id-1 div.sk-toggleable__content pre {margin: 0.2em;color: black;border-radius: 0.25em;background-color: #f0f8ff;}#sk-container-id-1 input.sk-toggleable__control:checked~div.sk-toggleable__content {max-height: 200px;max-width: 100%;overflow: auto;}#sk-container-id-1 input.sk-toggleable__control:checked~label.sk-toggleable__label-arrow:before {content: \"▾\";}#sk-container-id-1 div.sk-estimator input.sk-toggleable__control:checked~label.sk-toggleable__label {background-color: #d4ebff;}#sk-container-id-1 div.sk-label input.sk-toggleable__control:checked~label.sk-toggleable__label {background-color: #d4ebff;}#sk-container-id-1 input.sk-hidden--visually {border: 0;clip: rect(1px 1px 1px 1px);clip: rect(1px, 1px, 1px, 1px);height: 1px;margin: -1px;overflow: hidden;padding: 0;position: absolute;width: 1px;}#sk-container-id-1 div.sk-estimator {font-family: monospace;background-color: #f0f8ff;border: 1px dotted black;border-radius: 0.25em;box-sizing: border-box;margin-bottom: 0.5em;}#sk-container-id-1 div.sk-estimator:hover {background-color: #d4ebff;}#sk-container-id-1 div.sk-parallel-item::after {content: \"\";width: 100%;border-bottom: 1px solid gray;flex-grow: 1;}#sk-container-id-1 div.sk-label:hover label.sk-toggleable__label {background-color: #d4ebff;}#sk-container-id-1 div.sk-serial::before {content: \"\";position: absolute;border-left: 1px solid gray;box-sizing: border-box;top: 0;bottom: 0;left: 50%;z-index: 0;}#sk-container-id-1 div.sk-serial {display: flex;flex-direction: column;align-items: center;background-color: white;padding-right: 0.2em;padding-left: 0.2em;position: relative;}#sk-container-id-1 div.sk-item {position: relative;z-index: 1;}#sk-container-id-1 div.sk-parallel {display: flex;align-items: stretch;justify-content: center;background-color: white;position: relative;}#sk-container-id-1 div.sk-item::before, #sk-container-id-1 div.sk-parallel-item::before {content: \"\";position: absolute;border-left: 1px solid gray;box-sizing: border-box;top: 0;bottom: 0;left: 50%;z-index: -1;}#sk-container-id-1 div.sk-parallel-item {display: flex;flex-direction: column;z-index: 1;position: relative;background-color: white;}#sk-container-id-1 div.sk-parallel-item:first-child::after {align-self: flex-end;width: 50%;}#sk-container-id-1 div.sk-parallel-item:last-child::after {align-self: flex-start;width: 50%;}#sk-container-id-1 div.sk-parallel-item:only-child::after {width: 0;}#sk-container-id-1 div.sk-dashed-wrapped {border: 1px dashed gray;margin: 0 0.4em 0.5em 0.4em;box-sizing: border-box;padding-bottom: 0.4em;background-color: white;}#sk-container-id-1 div.sk-label label {font-family: monospace;font-weight: bold;display: inline-block;line-height: 1.2em;}#sk-container-id-1 div.sk-label-container {text-align: center;}#sk-container-id-1 div.sk-container {/* jupyter's `normalize.less` sets `[hidden] { display: none; }` but bootstrap.min.css set `[hidden] { display: none !important; }` so we also need the `!important` here to be able to override the default hidden behavior on the sphinx rendered scikit-learn.org. See: https://github.com/scikit-learn/scikit-learn/issues/21755 */display: inline-block !important;position: relative;}#sk-container-id-1 div.sk-text-repr-fallback {display: none;}</style><div id=\"sk-container-id-1\" class=\"sk-top-container\"><div class=\"sk-text-repr-fallback\"><pre>LogisticRegression(random_state=42)</pre><b>In a Jupyter environment, please rerun this cell to show the HTML representation or trust the notebook. <br />On GitHub, the HTML representation is unable to render, please try loading this page with nbviewer.org.</b></div><div class=\"sk-container\" hidden><div class=\"sk-item\"><div class=\"sk-estimator sk-toggleable\"><input class=\"sk-toggleable__control sk-hidden--visually\" id=\"sk-estimator-id-1\" type=\"checkbox\" checked><label for=\"sk-estimator-id-1\" class=\"sk-toggleable__label sk-toggleable__label-arrow\">LogisticRegression</label><div class=\"sk-toggleable__content\"><pre>LogisticRegression(random_state=42)</pre></div></div></div></div></div>"
      ],
      "text/plain": [
       "LogisticRegression(random_state=42)"
      ]
     },
     "execution_count": 14,
     "metadata": {},
     "output_type": "execute_result"
    }
   ],
   "source": [
    "logit.fit(X_train,y_train)"
   ]
  },
  {
   "cell_type": "code",
   "execution_count": 15,
   "id": "ecb9348b",
   "metadata": {},
   "outputs": [
    {
     "name": "stdout",
     "output_type": "stream",
     "text": [
      "Coefficient: \n",
      " [[-6.64194292e-01 -3.96943799e-01 -1.70324541e-01  2.22247741e-03\n",
      "  -8.07921608e-01 -2.53437904e+00 -8.41462394e-02 -2.82417218e-01]]\n",
      "Intercept: \n",
      " [3.4562969]\n"
     ]
    }
   ],
   "source": [
    "print('Coefficient: \\n', logit.coef_)\n",
    "print('Intercept: \\n', logit.intercept_)"
   ]
  },
  {
   "cell_type": "code",
   "execution_count": 20,
   "id": "f8b41b69",
   "metadata": {},
   "outputs": [
    {
     "data": {
      "text/plain": [
       "array([0, 1])"
      ]
     },
     "execution_count": 20,
     "metadata": {},
     "output_type": "execute_result"
    }
   ],
   "source": [
    "logit.classes_"
   ]
  },
  {
   "cell_type": "code",
   "execution_count": 21,
   "id": "2052909e",
   "metadata": {},
   "outputs": [
    {
     "data": {
      "text/plain": [
       "array([[-6.64194292e-01, -3.96943799e-01, -1.70324541e-01,\n",
       "         2.22247741e-03, -8.07921608e-01, -2.53437904e+00,\n",
       "        -8.41462394e-02, -2.82417218e-01]])"
      ]
     },
     "execution_count": 21,
     "metadata": {},
     "output_type": "execute_result"
    }
   ],
   "source": [
    "logit.coef_"
   ]
  },
  {
   "cell_type": "code",
   "execution_count": 22,
   "id": "da39995d",
   "metadata": {},
   "outputs": [
    {
     "data": {
      "text/plain": [
       "8"
      ]
     },
     "execution_count": 22,
     "metadata": {},
     "output_type": "execute_result"
    }
   ],
   "source": [
    "len(X_train.columns)"
   ]
  },
  {
   "cell_type": "code",
   "execution_count": 23,
   "id": "6edfd100",
   "metadata": {},
   "outputs": [
    {
     "data": {
      "text/html": [
       "<div>\n",
       "<style scoped>\n",
       "    .dataframe tbody tr th:only-of-type {\n",
       "        vertical-align: middle;\n",
       "    }\n",
       "\n",
       "    .dataframe tbody tr th {\n",
       "        vertical-align: top;\n",
       "    }\n",
       "\n",
       "    .dataframe thead th {\n",
       "        text-align: right;\n",
       "    }\n",
       "</style>\n",
       "<table border=\"1\" class=\"dataframe\">\n",
       "  <thead>\n",
       "    <tr style=\"text-align: right;\">\n",
       "      <th></th>\n",
       "      <th>column</th>\n",
       "      <th>coefficient</th>\n",
       "    </tr>\n",
       "  </thead>\n",
       "  <tbody>\n",
       "    <tr>\n",
       "      <th>0</th>\n",
       "      <td>pclass</td>\n",
       "      <td>-0.664194</td>\n",
       "    </tr>\n",
       "    <tr>\n",
       "      <th>1</th>\n",
       "      <td>sibsp</td>\n",
       "      <td>-0.396944</td>\n",
       "    </tr>\n",
       "    <tr>\n",
       "      <th>2</th>\n",
       "      <td>parch</td>\n",
       "      <td>-0.170325</td>\n",
       "    </tr>\n",
       "    <tr>\n",
       "      <th>3</th>\n",
       "      <td>fare</td>\n",
       "      <td>0.002222</td>\n",
       "    </tr>\n",
       "    <tr>\n",
       "      <th>4</th>\n",
       "      <td>alone</td>\n",
       "      <td>-0.807922</td>\n",
       "    </tr>\n",
       "    <tr>\n",
       "      <th>5</th>\n",
       "      <td>sex_male</td>\n",
       "      <td>-2.534379</td>\n",
       "    </tr>\n",
       "    <tr>\n",
       "      <th>6</th>\n",
       "      <td>embark_town_Queenstown</td>\n",
       "      <td>-0.084146</td>\n",
       "    </tr>\n",
       "    <tr>\n",
       "      <th>7</th>\n",
       "      <td>embark_town_Southampton</td>\n",
       "      <td>-0.282417</td>\n",
       "    </tr>\n",
       "  </tbody>\n",
       "</table>\n",
       "</div>"
      ],
      "text/plain": [
       "                    column  coefficient\n",
       "0                   pclass    -0.664194\n",
       "1                    sibsp    -0.396944\n",
       "2                    parch    -0.170325\n",
       "3                     fare     0.002222\n",
       "4                    alone    -0.807922\n",
       "5                 sex_male    -2.534379\n",
       "6   embark_town_Queenstown    -0.084146\n",
       "7  embark_town_Southampton    -0.282417"
      ]
     },
     "execution_count": 23,
     "metadata": {},
     "output_type": "execute_result"
    }
   ],
   "source": [
    "# The higher the coefficient\n",
    "# The more important the feature\n",
    "\n",
    "pd.DataFrame({'column':X_train.columns.tolist(),'coefficient':logit.coef_[0]})"
   ]
  },
  {
   "cell_type": "code",
   "execution_count": 24,
   "id": "246f8dde",
   "metadata": {},
   "outputs": [
    {
     "data": {
      "text/plain": [
       "array([3.4562969])"
      ]
     },
     "execution_count": 24,
     "metadata": {},
     "output_type": "execute_result"
    }
   ],
   "source": [
    "logit.intercept_"
   ]
  },
  {
   "cell_type": "code",
   "execution_count": 16,
   "id": "e6c2a739",
   "metadata": {},
   "outputs": [],
   "source": [
    "y_pred = logit.predict(X_train)"
   ]
  },
  {
   "cell_type": "code",
   "execution_count": 17,
   "id": "90db03a4",
   "metadata": {},
   "outputs": [
    {
     "name": "stdout",
     "output_type": "stream",
     "text": [
      "Accuracy of Logistic Regression classifier on training set: 0.80\n"
     ]
    }
   ],
   "source": [
    "print('Accuracy of Logistic Regression classifier on training set: {:.2f}'\n",
    "     .format(logit.score(X_train, y_train)))"
   ]
  },
  {
   "cell_type": "code",
   "execution_count": 18,
   "id": "58d686e2",
   "metadata": {},
   "outputs": [
    {
     "name": "stdout",
     "output_type": "stream",
     "text": [
      "[[330  54]\n",
      " [ 69 170]]\n"
     ]
    }
   ],
   "source": [
    "print(confusion_matrix(y_train, y_pred))"
   ]
  },
  {
   "cell_type": "code",
   "execution_count": 19,
   "id": "567b2993",
   "metadata": {
    "scrolled": true
   },
   "outputs": [
    {
     "name": "stdout",
     "output_type": "stream",
     "text": [
      "              precision    recall  f1-score   support\n",
      "\n",
      "           0       0.83      0.86      0.84       384\n",
      "           1       0.76      0.71      0.73       239\n",
      "\n",
      "    accuracy                           0.80       623\n",
      "   macro avg       0.79      0.79      0.79       623\n",
      "weighted avg       0.80      0.80      0.80       623\n",
      "\n"
     ]
    }
   ],
   "source": [
    "print(classification_report(y_train, y_pred))"
   ]
  },
  {
   "cell_type": "markdown",
   "id": "e75667ab",
   "metadata": {},
   "source": [
    "# Model 2"
   ]
  },
  {
   "cell_type": "code",
   "execution_count": 28,
   "id": "ecefe191",
   "metadata": {},
   "outputs": [],
   "source": [
    "logit2 = LogisticRegression(penalty='l1',random_state=seed,solver='liblinear', max_iter=200)"
   ]
  },
  {
   "cell_type": "code",
   "execution_count": 29,
   "id": "d80ebd53",
   "metadata": {},
   "outputs": [
    {
     "data": {
      "text/html": [
       "<style>#sk-container-id-2 {color: black;background-color: white;}#sk-container-id-2 pre{padding: 0;}#sk-container-id-2 div.sk-toggleable {background-color: white;}#sk-container-id-2 label.sk-toggleable__label {cursor: pointer;display: block;width: 100%;margin-bottom: 0;padding: 0.3em;box-sizing: border-box;text-align: center;}#sk-container-id-2 label.sk-toggleable__label-arrow:before {content: \"▸\";float: left;margin-right: 0.25em;color: #696969;}#sk-container-id-2 label.sk-toggleable__label-arrow:hover:before {color: black;}#sk-container-id-2 div.sk-estimator:hover label.sk-toggleable__label-arrow:before {color: black;}#sk-container-id-2 div.sk-toggleable__content {max-height: 0;max-width: 0;overflow: hidden;text-align: left;background-color: #f0f8ff;}#sk-container-id-2 div.sk-toggleable__content pre {margin: 0.2em;color: black;border-radius: 0.25em;background-color: #f0f8ff;}#sk-container-id-2 input.sk-toggleable__control:checked~div.sk-toggleable__content {max-height: 200px;max-width: 100%;overflow: auto;}#sk-container-id-2 input.sk-toggleable__control:checked~label.sk-toggleable__label-arrow:before {content: \"▾\";}#sk-container-id-2 div.sk-estimator input.sk-toggleable__control:checked~label.sk-toggleable__label {background-color: #d4ebff;}#sk-container-id-2 div.sk-label input.sk-toggleable__control:checked~label.sk-toggleable__label {background-color: #d4ebff;}#sk-container-id-2 input.sk-hidden--visually {border: 0;clip: rect(1px 1px 1px 1px);clip: rect(1px, 1px, 1px, 1px);height: 1px;margin: -1px;overflow: hidden;padding: 0;position: absolute;width: 1px;}#sk-container-id-2 div.sk-estimator {font-family: monospace;background-color: #f0f8ff;border: 1px dotted black;border-radius: 0.25em;box-sizing: border-box;margin-bottom: 0.5em;}#sk-container-id-2 div.sk-estimator:hover {background-color: #d4ebff;}#sk-container-id-2 div.sk-parallel-item::after {content: \"\";width: 100%;border-bottom: 1px solid gray;flex-grow: 1;}#sk-container-id-2 div.sk-label:hover label.sk-toggleable__label {background-color: #d4ebff;}#sk-container-id-2 div.sk-serial::before {content: \"\";position: absolute;border-left: 1px solid gray;box-sizing: border-box;top: 0;bottom: 0;left: 50%;z-index: 0;}#sk-container-id-2 div.sk-serial {display: flex;flex-direction: column;align-items: center;background-color: white;padding-right: 0.2em;padding-left: 0.2em;position: relative;}#sk-container-id-2 div.sk-item {position: relative;z-index: 1;}#sk-container-id-2 div.sk-parallel {display: flex;align-items: stretch;justify-content: center;background-color: white;position: relative;}#sk-container-id-2 div.sk-item::before, #sk-container-id-2 div.sk-parallel-item::before {content: \"\";position: absolute;border-left: 1px solid gray;box-sizing: border-box;top: 0;bottom: 0;left: 50%;z-index: -1;}#sk-container-id-2 div.sk-parallel-item {display: flex;flex-direction: column;z-index: 1;position: relative;background-color: white;}#sk-container-id-2 div.sk-parallel-item:first-child::after {align-self: flex-end;width: 50%;}#sk-container-id-2 div.sk-parallel-item:last-child::after {align-self: flex-start;width: 50%;}#sk-container-id-2 div.sk-parallel-item:only-child::after {width: 0;}#sk-container-id-2 div.sk-dashed-wrapped {border: 1px dashed gray;margin: 0 0.4em 0.5em 0.4em;box-sizing: border-box;padding-bottom: 0.4em;background-color: white;}#sk-container-id-2 div.sk-label label {font-family: monospace;font-weight: bold;display: inline-block;line-height: 1.2em;}#sk-container-id-2 div.sk-label-container {text-align: center;}#sk-container-id-2 div.sk-container {/* jupyter's `normalize.less` sets `[hidden] { display: none; }` but bootstrap.min.css set `[hidden] { display: none !important; }` so we also need the `!important` here to be able to override the default hidden behavior on the sphinx rendered scikit-learn.org. See: https://github.com/scikit-learn/scikit-learn/issues/21755 */display: inline-block !important;position: relative;}#sk-container-id-2 div.sk-text-repr-fallback {display: none;}</style><div id=\"sk-container-id-2\" class=\"sk-top-container\"><div class=\"sk-text-repr-fallback\"><pre>LogisticRegression(max_iter=200, penalty=&#x27;l1&#x27;, random_state=42,\n",
       "                   solver=&#x27;liblinear&#x27;)</pre><b>In a Jupyter environment, please rerun this cell to show the HTML representation or trust the notebook. <br />On GitHub, the HTML representation is unable to render, please try loading this page with nbviewer.org.</b></div><div class=\"sk-container\" hidden><div class=\"sk-item\"><div class=\"sk-estimator sk-toggleable\"><input class=\"sk-toggleable__control sk-hidden--visually\" id=\"sk-estimator-id-2\" type=\"checkbox\" checked><label for=\"sk-estimator-id-2\" class=\"sk-toggleable__label sk-toggleable__label-arrow\">LogisticRegression</label><div class=\"sk-toggleable__content\"><pre>LogisticRegression(max_iter=200, penalty=&#x27;l1&#x27;, random_state=42,\n",
       "                   solver=&#x27;liblinear&#x27;)</pre></div></div></div></div></div>"
      ],
      "text/plain": [
       "LogisticRegression(max_iter=200, penalty='l1', random_state=42,\n",
       "                   solver='liblinear')"
      ]
     },
     "execution_count": 29,
     "metadata": {},
     "output_type": "execute_result"
    }
   ],
   "source": [
    "logit2.fit(X_train,y_train)"
   ]
  },
  {
   "cell_type": "code",
   "execution_count": 30,
   "id": "18eee0d6",
   "metadata": {},
   "outputs": [
    {
     "data": {
      "text/plain": [
       "array([[-0.62050132, -0.35615214, -0.14234378,  0.00304136, -0.68239236,\n",
       "        -2.57827229,  0.        , -0.20114623]])"
      ]
     },
     "execution_count": 30,
     "metadata": {},
     "output_type": "execute_result"
    }
   ],
   "source": [
    "logit2.coef_"
   ]
  },
  {
   "cell_type": "code",
   "execution_count": 31,
   "id": "729e3a0a",
   "metadata": {},
   "outputs": [
    {
     "data": {
      "text/plain": [
       "0.8025682182985554"
      ]
     },
     "execution_count": 31,
     "metadata": {},
     "output_type": "execute_result"
    }
   ],
   "source": [
    "logit2.score(X_train,y_train)"
   ]
  },
  {
   "cell_type": "code",
   "execution_count": 33,
   "id": "8de8d396",
   "metadata": {},
   "outputs": [
    {
     "data": {
      "text/plain": [
       "0.7910447761194029"
      ]
     },
     "execution_count": 33,
     "metadata": {},
     "output_type": "execute_result"
    }
   ],
   "source": [
    "logit2.score(X_validate,y_validate)"
   ]
  },
  {
   "cell_type": "code",
   "execution_count": 35,
   "id": "8b06fcdf",
   "metadata": {},
   "outputs": [],
   "source": [
    "y_pred = logit2.predict(X_validate)"
   ]
  },
  {
   "cell_type": "code",
   "execution_count": 36,
   "id": "bffe34d9",
   "metadata": {},
   "outputs": [
    {
     "name": "stdout",
     "output_type": "stream",
     "text": [
      "              precision    recall  f1-score   support\n",
      "\n",
      "           0       0.80      0.88      0.84       165\n",
      "           1       0.77      0.65      0.71       103\n",
      "\n",
      "    accuracy                           0.79       268\n",
      "   macro avg       0.79      0.76      0.77       268\n",
      "weighted avg       0.79      0.79      0.79       268\n",
      "\n"
     ]
    }
   ],
   "source": [
    "print(classification_report(y_validate,y_pred))"
   ]
  },
  {
   "cell_type": "code",
   "execution_count": 39,
   "id": "87ee9842",
   "metadata": {},
   "outputs": [],
   "source": [
    "probability_array = logit2.predict_proba(X_validate)"
   ]
  },
  {
   "cell_type": "code",
   "execution_count": 41,
   "id": "d5699e8a",
   "metadata": {},
   "outputs": [
    {
     "data": {
      "text/plain": [
       "0.18449528297212328"
      ]
     },
     "execution_count": 41,
     "metadata": {},
     "output_type": "execute_result"
    }
   ],
   "source": [
    "probability_array[0][1]"
   ]
  },
  {
   "cell_type": "code",
   "execution_count": 42,
   "id": "ef1af4cd",
   "metadata": {},
   "outputs": [
    {
     "name": "stdout",
     "output_type": "stream",
     "text": [
      "0.18449528297212328\n",
      "0.8963234396678259\n",
      "0.06059373691601723\n",
      "0.10700175786722432\n",
      "0.2088133505056284\n",
      "0.613484290431388\n",
      "0.30464614156614483\n",
      "0.1069569542279657\n",
      "0.9153185741539489\n",
      "0.304815289236254\n",
      "0.6631065772128084\n",
      "0.8935106229095425\n",
      "0.748774886824541\n",
      "0.3862274655640594\n",
      "0.6585251641263479\n",
      "0.748774886824541\n",
      "0.304815289236254\n",
      "0.18449528297212328\n",
      "0.12793391801142634\n",
      "0.8584138554386439\n",
      "0.15935955292363613\n",
      "0.2171396022015515\n",
      "0.10700175786722432\n",
      "0.1525406585865393\n",
      "0.8405801652587155\n",
      "0.10688556985711163\n",
      "0.12998366550030446\n",
      "0.46161374898106095\n",
      "0.14088777460578616\n",
      "0.18449528297212328\n",
      "0.7843600979504611\n",
      "0.21454817208089602\n",
      "0.5680179473494634\n",
      "0.15388915518439844\n",
      "0.8220197396688075\n",
      "0.10696543717736595\n",
      "0.3151251879118017\n",
      "0.6586220674561107\n",
      "0.662397325322416\n",
      "0.748774886824541\n",
      "0.1069569542279657\n",
      "0.10696543717736595\n",
      "0.9099481138610221\n",
      "0.10889068734004781\n",
      "0.10711319931486406\n",
      "0.6153816145280624\n",
      "0.9263305482713885\n",
      "0.8405801652587155\n",
      "0.49527401765626433\n",
      "0.1719749198312733\n",
      "0.9164705796489241\n",
      "0.1719749198312733\n",
      "0.051657594943977474\n",
      "0.2459360853996503\n",
      "0.12802554724511586\n",
      "0.3776028761646592\n",
      "0.10673808419529948\n",
      "0.2459360853996503\n",
      "0.4815842042534376\n",
      "0.10692186667455958\n",
      "0.18449528297212328\n",
      "0.10696543717736595\n",
      "0.10727815000212852\n",
      "0.10717988619402524\n",
      "0.6861492610059275\n",
      "0.10717988619402524\n",
      "0.49527401765626433\n",
      "0.748774886824541\n",
      "0.10738013692318742\n",
      "0.6121913726430975\n",
      "0.12769377405187612\n",
      "0.2459360853996503\n",
      "0.10695091194023125\n",
      "0.3971191211142771\n",
      "0.30464614156614483\n",
      "0.10700175786722432\n",
      "0.507716167306408\n",
      "0.9302530481865476\n",
      "0.10701992228251862\n",
      "0.39915971140870177\n",
      "0.10742387170789403\n",
      "0.14229772740666538\n",
      "0.6658323799072723\n",
      "0.3552352618061207\n",
      "0.9077702200816901\n",
      "0.46394462233420986\n",
      "0.9358262471701881\n",
      "0.2879790432437379\n",
      "0.43571907693667794\n",
      "0.1686443934809683\n",
      "0.10741900179351208\n",
      "0.18335404417487977\n",
      "0.3073669081064123\n",
      "0.6923672571180765\n",
      "0.10906788189187286\n",
      "0.3096512533444538\n",
      "0.8889013967804701\n",
      "0.35120536487048415\n",
      "0.8584138554386439\n",
      "0.11485371028750088\n",
      "0.3963184344749787\n",
      "0.6585337129414026\n",
      "0.3963184344749787\n",
      "0.24312687112993822\n",
      "0.32136906495775497\n",
      "0.1069569542279657\n",
      "0.10700175786722432\n",
      "0.304815289236254\n",
      "0.10700175786722432\n",
      "0.10685654021346848\n",
      "0.10700175786722432\n",
      "0.10734370323519139\n",
      "0.17070860960787093\n",
      "0.3762755817142825\n",
      "0.3776028761646592\n",
      "0.8762534191560969\n",
      "0.9074812387196289\n",
      "0.22737176542603896\n",
      "0.12751744616890492\n",
      "0.3971191211142771\n",
      "0.21635865674694704\n",
      "0.9197146359541849\n",
      "0.10700175786722432\n",
      "0.7329162722171423\n",
      "0.8889013967804701\n",
      "0.3204632168263488\n",
      "0.8112061980472531\n",
      "0.9049236378589426\n",
      "0.12962523384410266\n",
      "0.37784525755429976\n",
      "0.10655093177961873\n",
      "0.1069569542279657\n",
      "0.11128167881806801\n",
      "0.12581951373319952\n",
      "0.10700175786722432\n",
      "0.19785251047363142\n",
      "0.7034154099819585\n",
      "0.10936376847535005\n",
      "0.10700175786722432\n",
      "0.7416326357053875\n",
      "0.18449528297212328\n",
      "0.10694486995296484\n",
      "0.21662949812045795\n",
      "0.7308439363671886\n",
      "0.10676949292550533\n",
      "0.6665115458302437\n",
      "0.18449528297212328\n",
      "0.10700175786722432\n",
      "0.6585337129414026\n",
      "0.6926263138244627\n",
      "0.26118534412480343\n",
      "0.9193686771004271\n",
      "0.17862062406764076\n",
      "0.732349826776335\n",
      "0.12769377405187612\n",
      "0.12191724359868425\n",
      "0.10717988619402524\n",
      "0.3073669081064123\n",
      "0.30446094512354865\n",
      "0.7318283626173873\n",
      "0.889433239763242\n",
      "0.4680629336191369\n",
      "0.1069569542279657\n",
      "0.10684080904731452\n",
      "0.1069569542279657\n",
      "0.34902552580754\n",
      "0.21775199140662516\n",
      "0.6118302820806241\n",
      "0.10703516607202435\n",
      "0.5117146545672695\n",
      "0.46161374898106095\n",
      "0.24650054548074624\n",
      "0.10700175786722432\n",
      "0.18541222548870998\n",
      "0.8948544976467658\n",
      "0.6118302820806241\n",
      "0.4306250374872793\n",
      "0.10700175786722432\n",
      "0.1849533149375611\n",
      "0.10696543717736595\n",
      "0.7116073962806349\n",
      "0.7317259154044399\n",
      "0.7715713437972141\n",
      "0.8739263746027266\n",
      "0.3073669081064123\n",
      "0.1069569542279657\n",
      "0.9223104599663731\n",
      "0.8925932029812765\n",
      "0.10734128442338264\n",
      "0.10700175786722432\n",
      "0.18335404417487977\n",
      "0.7311638091582974\n",
      "0.12769377405187612\n",
      "0.4425770183241173\n",
      "0.10688556985711163\n",
      "0.3070432619070896\n",
      "0.8947105427132592\n",
      "0.10692186667455958\n",
      "0.8112061980472531\n",
      "0.1069569542279657\n",
      "0.18335404417487977\n",
      "0.10676949292550533\n",
      "0.14202726677066455\n",
      "0.7884358969656441\n",
      "0.6139709670646291\n",
      "0.9153743526405619\n",
      "0.10700175786722432\n",
      "0.8980298343037312\n",
      "0.10692186667455958\n",
      "0.509534127733811\n",
      "0.8056059466151623\n",
      "0.10742387170789403\n",
      "0.26344577498079197\n",
      "0.2459360853996503\n",
      "0.36504964703421156\n",
      "0.10673324165254096\n",
      "0.6581745740395231\n",
      "0.31061376734467283\n",
      "0.18335404417487977\n",
      "0.10696543717736595\n",
      "0.31257089921062736\n",
      "0.1525406585865393\n",
      "0.10700175786722432\n",
      "0.31821834102016766\n",
      "0.18335404417487977\n",
      "0.686195629719772\n",
      "0.10673324165254096\n",
      "0.1275160250152779\n",
      "0.12769377405187612\n",
      "0.6581745740395231\n",
      "0.12853569497581255\n",
      "0.1069569542279657\n",
      "0.3070432619070896\n",
      "0.12768811668426563\n",
      "0.18335404417487977\n",
      "0.8524315399536458\n",
      "0.06059373691601723\n",
      "0.83914853715512\n",
      "0.7843600979504611\n",
      "0.10694486995296484\n",
      "0.6119927880556056\n",
      "0.304815289236254\n",
      "0.18335404417487977\n",
      "0.12769377405187612\n",
      "0.6748833415032337\n",
      "0.9218071539064913\n",
      "0.35120536487048415\n",
      "0.9000585531466384\n",
      "0.6874385971494695\n",
      "0.7317259154044399\n",
      "0.17862062406764076\n",
      "0.37784525755429976\n",
      "0.10717988619402524\n",
      "0.10700175786722432\n",
      "0.9290492644895268\n",
      "0.6329567718403839\n",
      "0.31028823389775434\n",
      "0.12769377405187612\n",
      "0.044037992588521015\n",
      "0.889491940247664\n",
      "0.12191724359868425\n",
      "0.6586220674561107\n",
      "0.30823875076071894\n",
      "0.10700175786722432\n",
      "0.7844503860431317\n",
      "0.10590914294450748\n",
      "0.3708308408511343\n",
      "0.9456205003295406\n"
     ]
    }
   ],
   "source": [
    "for row in probability_array:\n",
    "    print(row[1])"
   ]
  },
  {
   "cell_type": "code",
   "execution_count": 43,
   "id": "bd616f22",
   "metadata": {},
   "outputs": [],
   "source": [
    "probability_array_true = np.array([row[1] for row in probability_array])"
   ]
  },
  {
   "cell_type": "code",
   "execution_count": 44,
   "id": "8ff10dad",
   "metadata": {
    "scrolled": true
   },
   "outputs": [
    {
     "data": {
      "text/plain": [
       "array([0.18449528, 0.89632344, 0.06059374, 0.10700176, 0.20881335])"
      ]
     },
     "execution_count": 44,
     "metadata": {},
     "output_type": "execute_result"
    }
   ],
   "source": [
    "probability_array_true[:5]"
   ]
  },
  {
   "cell_type": "code",
   "execution_count": 45,
   "id": "5aba2b3f",
   "metadata": {},
   "outputs": [],
   "source": [
    "import seaborn as sns"
   ]
  },
  {
   "cell_type": "code",
   "execution_count": 48,
   "id": "66ff3f48",
   "metadata": {},
   "outputs": [],
   "source": [
    "graph_df=pd.DataFrame({'proba_true':probability_array_true,'actual_label':y_validate})"
   ]
  },
  {
   "cell_type": "code",
   "execution_count": 52,
   "id": "fe545ba6",
   "metadata": {},
   "outputs": [
    {
     "data": {
      "image/png": "[encoded data removed]",
      "text/plain": [
       "<Figure size 594.861x500 with 1 Axes>"
      ]
     },
     "metadata": {},
     "output_type": "display_data"
    }
   ],
   "source": [
    "sns.relplot(data=graph_df, x='proba_true', y='proba_true',hue='actual_label')\n",
    "plt.show()"
   ]
  },
  {
   "cell_type": "markdown",
   "id": "5c635100",
   "metadata": {},
   "source": [
    "# Evaluate"
   ]
  },
  {
   "cell_type": "code",
   "execution_count": null,
   "id": "3bce5791",
   "metadata": {},
   "outputs": [],
   "source": [
    "# make predictions\n",
    "\n",
    "y_pred1 = logit.predict(X_validate)\n",
    "y_pred2 = logit2.predict(X_validate)\n",
    "\n",
    "\n",
    "print(\"Model 1: solver = lbfgs, c = 1\")\n",
    "\n",
    "# accuracy of model 1\n",
    "print('Accuracy: {:.2f}'.format(logit.score(X_validate, y_validate)))\n",
    "\n",
    "# confusion matrix of model 1\n",
    "print(confusion_matrix(y_validate, y_pred1))\n",
    "\n",
    "# classification report of model 1\n",
    "print(classification_report(y_validate, y_pred1))\n",
    "\n",
    "print(\"Model 2: solver = lbfgs, c = .1\")\n",
    "\n",
    "# accuracy of model 2\n",
    "print('Accuracy: {:.2f}'.format(logit2.score(X_validate, y_validate)))\n",
    "\n",
    "# confusion matrix of model 2\n",
    "print(confusion_matrix(y_validate, y_pred2))\n",
    "\n",
    "# classification report of model 2\n",
    "print(classification_report(y_validate, y_pred2))\n"
   ]
  },
  {
   "cell_type": "markdown",
   "id": "b40099b1",
   "metadata": {},
   "source": [
    "# Exercises"
   ]
  },
  {
   "cell_type": "markdown",
   "id": "4144463a",
   "metadata": {},
   "source": [
    "#### In these exercises, we'll continue working with the titanic dataset and building logistic regression models. Throughout this exercise, be sure you are training, evaluation, and comparing models on the train and validate datasets. The test dataset should only be used for your final model.\n",
    "\n",
    "#### For all of the models you create, choose a threshold that optimizes for accuracy.\n",
    " \n",
    "#### Create a new notebook, logistic_regression, use it to answer the following questions:"
   ]
  },
  {
   "cell_type": "code",
   "execution_count": 81,
   "id": "403b4069",
   "metadata": {},
   "outputs": [],
   "source": [
    "train_base = baseline = y_train.value_counts().idxmax()"
   ]
  },
  {
   "cell_type": "code",
   "execution_count": 82,
   "id": "ac150841",
   "metadata": {},
   "outputs": [],
   "source": [
    "df = pd.DataFrame(y_train)"
   ]
  },
  {
   "cell_type": "code",
   "execution_count": 83,
   "id": "602af066",
   "metadata": {},
   "outputs": [],
   "source": [
    "df['baseline'] = train_base"
   ]
  },
  {
   "cell_type": "code",
   "execution_count": 84,
   "id": "33e1c6cc",
   "metadata": {},
   "outputs": [
    {
     "data": {
      "text/html": [
       "<div>\n",
       "<style scoped>\n",
       "    .dataframe tbody tr th:only-of-type {\n",
       "        vertical-align: middle;\n",
       "    }\n",
       "\n",
       "    .dataframe tbody tr th {\n",
       "        vertical-align: top;\n",
       "    }\n",
       "\n",
       "    .dataframe thead th {\n",
       "        text-align: right;\n",
       "    }\n",
       "</style>\n",
       "<table border=\"1\" class=\"dataframe\">\n",
       "  <thead>\n",
       "    <tr style=\"text-align: right;\">\n",
       "      <th></th>\n",
       "      <th>survived</th>\n",
       "      <th>baseline</th>\n",
       "    </tr>\n",
       "  </thead>\n",
       "  <tbody>\n",
       "    <tr>\n",
       "      <th>199</th>\n",
       "      <td>0</td>\n",
       "      <td>0</td>\n",
       "    </tr>\n",
       "    <tr>\n",
       "      <th>468</th>\n",
       "      <td>0</td>\n",
       "      <td>0</td>\n",
       "    </tr>\n",
       "    <tr>\n",
       "      <th>198</th>\n",
       "      <td>1</td>\n",
       "      <td>0</td>\n",
       "    </tr>\n",
       "  </tbody>\n",
       "</table>\n",
       "</div>"
      ],
      "text/plain": [
       "     survived  baseline\n",
       "199         0         0\n",
       "468         0         0\n",
       "198         1         0"
      ]
     },
     "execution_count": 84,
     "metadata": {},
     "output_type": "execute_result"
    }
   ],
   "source": [
    "df.head(3)"
   ]
  },
  {
   "cell_type": "code",
   "execution_count": 77,
   "id": "efa1a5c3",
   "metadata": {},
   "outputs": [],
   "source": [
    "baseline_accuracy = (df.survived == df.baseline).mean()"
   ]
  },
  {
   "cell_type": "code",
   "execution_count": 78,
   "id": "4ff18ba6",
   "metadata": {},
   "outputs": [
    {
     "data": {
      "text/plain": [
       "0.6163723916532905"
      ]
     },
     "execution_count": 78,
     "metadata": {},
     "output_type": "execute_result"
    }
   ],
   "source": [
    "baseline_accuracy"
   ]
  },
  {
   "cell_type": "markdown",
   "id": "dfa74c17",
   "metadata": {},
   "source": [
    "### 1. Create a model that includes only age, fare, and pclass. Does this model perform better than your baseline?"
   ]
  },
  {
   "cell_type": "markdown",
   "id": "e46e8211",
   "metadata": {},
   "source": [
    "# Acquire Redo"
   ]
  },
  {
   "cell_type": "code",
   "execution_count": 177,
   "id": "43f80c22",
   "metadata": {},
   "outputs": [
    {
     "data": {
      "text/plain": [
       "0.6163723916532905"
      ]
     },
     "execution_count": 177,
     "metadata": {},
     "output_type": "execute_result"
    }
   ],
   "source": [
    "baseline_accuracy"
   ]
  },
  {
   "cell_type": "code",
   "execution_count": 117,
   "id": "451f90de",
   "metadata": {},
   "outputs": [],
   "source": [
    "titanic = acquire.get_titanic_data()"
   ]
  },
  {
   "cell_type": "code",
   "execution_count": 118,
   "id": "12ea0648",
   "metadata": {},
   "outputs": [],
   "source": [
    "titanic = prepare.prep_titanic(titanic)\n",
    "titanic = titanic.drop(columns=['sex', 'embark_town'])"
   ]
  },
  {
   "cell_type": "code",
   "execution_count": 119,
   "id": "14a74da0",
   "metadata": {},
   "outputs": [
    {
     "data": {
      "text/html": [
       "<div>\n",
       "<style scoped>\n",
       "    .dataframe tbody tr th:only-of-type {\n",
       "        vertical-align: middle;\n",
       "    }\n",
       "\n",
       "    .dataframe tbody tr th {\n",
       "        vertical-align: top;\n",
       "    }\n",
       "\n",
       "    .dataframe thead th {\n",
       "        text-align: right;\n",
       "    }\n",
       "</style>\n",
       "<table border=\"1\" class=\"dataframe\">\n",
       "  <thead>\n",
       "    <tr style=\"text-align: right;\">\n",
       "      <th></th>\n",
       "      <th>survived</th>\n",
       "      <th>pclass</th>\n",
       "      <th>age</th>\n",
       "      <th>sibsp</th>\n",
       "      <th>parch</th>\n",
       "      <th>fare</th>\n",
       "      <th>alone</th>\n",
       "      <th>sex_male</th>\n",
       "      <th>embark_town_Queenstown</th>\n",
       "      <th>embark_town_Southampton</th>\n",
       "    </tr>\n",
       "  </thead>\n",
       "  <tbody>\n",
       "    <tr>\n",
       "      <th>0</th>\n",
       "      <td>0</td>\n",
       "      <td>3</td>\n",
       "      <td>22.0</td>\n",
       "      <td>1</td>\n",
       "      <td>0</td>\n",
       "      <td>7.25</td>\n",
       "      <td>0</td>\n",
       "      <td>1</td>\n",
       "      <td>0</td>\n",
       "      <td>1</td>\n",
       "    </tr>\n",
       "  </tbody>\n",
       "</table>\n",
       "</div>"
      ],
      "text/plain": [
       "   survived  pclass   age  sibsp  parch  fare  alone  sex_male  \\\n",
       "0         0       3  22.0      1      0  7.25      0         1   \n",
       "\n",
       "   embark_town_Queenstown  embark_town_Southampton  \n",
       "0                       0                        1  "
      ]
     },
     "execution_count": 119,
     "metadata": {},
     "output_type": "execute_result"
    }
   ],
   "source": [
    "titanic.head(1)"
   ]
  },
  {
   "cell_type": "code",
   "execution_count": 120,
   "id": "ac481d75",
   "metadata": {},
   "outputs": [],
   "source": [
    "train_validate, test = train_test_split(titanic,train_size=.8,random_state=123)\n",
    "train, validate = train_test_split(titanic,train_size=.7,random_state=123,stratify=titanic.survived)"
   ]
  },
  {
   "cell_type": "code",
   "execution_count": 121,
   "id": "85c3e818",
   "metadata": {},
   "outputs": [],
   "source": [
    "imputer = SimpleImputer(missing_values = np.nan, strategy='most_frequent')\n",
    "train[['age']] = imputer.fit_transform(train[['age']])\n",
    "validate[['age']] = imputer.transform(validate[['age']])\n",
    "test[['age']] = imputer.transform(test[['age']])"
   ]
  },
  {
   "cell_type": "code",
   "execution_count": 122,
   "id": "3be488ab",
   "metadata": {},
   "outputs": [
    {
     "data": {
      "text/html": [
       "<div>\n",
       "<style scoped>\n",
       "    .dataframe tbody tr th:only-of-type {\n",
       "        vertical-align: middle;\n",
       "    }\n",
       "\n",
       "    .dataframe tbody tr th {\n",
       "        vertical-align: top;\n",
       "    }\n",
       "\n",
       "    .dataframe thead th {\n",
       "        text-align: right;\n",
       "    }\n",
       "</style>\n",
       "<table border=\"1\" class=\"dataframe\">\n",
       "  <thead>\n",
       "    <tr style=\"text-align: right;\">\n",
       "      <th></th>\n",
       "      <th>survived</th>\n",
       "      <th>pclass</th>\n",
       "      <th>age</th>\n",
       "      <th>sibsp</th>\n",
       "      <th>parch</th>\n",
       "      <th>fare</th>\n",
       "      <th>alone</th>\n",
       "      <th>sex_male</th>\n",
       "      <th>embark_town_Queenstown</th>\n",
       "      <th>embark_town_Southampton</th>\n",
       "    </tr>\n",
       "  </thead>\n",
       "  <tbody>\n",
       "    <tr>\n",
       "      <th>199</th>\n",
       "      <td>0</td>\n",
       "      <td>2</td>\n",
       "      <td>24.0</td>\n",
       "      <td>0</td>\n",
       "      <td>0</td>\n",
       "      <td>13.0</td>\n",
       "      <td>1</td>\n",
       "      <td>0</td>\n",
       "      <td>0</td>\n",
       "      <td>1</td>\n",
       "    </tr>\n",
       "  </tbody>\n",
       "</table>\n",
       "</div>"
      ],
      "text/plain": [
       "     survived  pclass   age  sibsp  parch  fare  alone  sex_male  \\\n",
       "199         0       2  24.0      0      0  13.0      1         0   \n",
       "\n",
       "     embark_town_Queenstown  embark_town_Southampton  \n",
       "199                       0                        1  "
      ]
     },
     "execution_count": 122,
     "metadata": {},
     "output_type": "execute_result"
    }
   ],
   "source": [
    "train.head(1)"
   ]
  },
  {
   "cell_type": "code",
   "execution_count": 123,
   "id": "2b6617b6",
   "metadata": {
    "scrolled": false
   },
   "outputs": [
    {
     "data": {
      "text/plain": [
       "survived                   0\n",
       "pclass                     0\n",
       "age                        0\n",
       "sibsp                      0\n",
       "parch                      0\n",
       "fare                       0\n",
       "alone                      0\n",
       "sex_male                   0\n",
       "embark_town_Queenstown     0\n",
       "embark_town_Southampton    0\n",
       "dtype: int64"
      ]
     },
     "execution_count": 123,
     "metadata": {},
     "output_type": "execute_result"
    }
   ],
   "source": [
    "train.isna().sum()"
   ]
  },
  {
   "cell_type": "code",
   "execution_count": 124,
   "id": "f0b0a8ad",
   "metadata": {},
   "outputs": [],
   "source": [
    "X_train = train.drop(columns=['survived'])\n",
    "y_train = train['survived']\n",
    "\n",
    "X_validate = validate.drop(columns=['survived'])\n",
    "y_validate = validate['survived']\n",
    "\n",
    "X_test = test.drop(columns=['survived'])\n",
    "y_test = test['survived']"
   ]
  },
  {
   "cell_type": "code",
   "execution_count": 126,
   "id": "bb1c2c29",
   "metadata": {},
   "outputs": [
    {
     "data": {
      "text/plain": [
       "pclass                     0\n",
       "age                        0\n",
       "sibsp                      0\n",
       "parch                      0\n",
       "fare                       0\n",
       "alone                      0\n",
       "sex_male                   0\n",
       "embark_town_Queenstown     0\n",
       "embark_town_Southampton    0\n",
       "dtype: int64"
      ]
     },
     "execution_count": 126,
     "metadata": {},
     "output_type": "execute_result"
    }
   ],
   "source": [
    "X_train.isna().sum()"
   ]
  },
  {
   "cell_type": "markdown",
   "id": "0c48967c",
   "metadata": {},
   "source": [
    "# Model 1"
   ]
  },
  {
   "cell_type": "markdown",
   "id": "199f9549",
   "metadata": {},
   "source": [
    "### Acquire Model 1"
   ]
  },
  {
   "cell_type": "code",
   "execution_count": 178,
   "id": "ecd5182a",
   "metadata": {},
   "outputs": [
    {
     "data": {
      "text/plain": [
       "0.6163723916532905"
      ]
     },
     "execution_count": 178,
     "metadata": {},
     "output_type": "execute_result"
    }
   ],
   "source": [
    "baseline_accuracy"
   ]
  },
  {
   "cell_type": "code",
   "execution_count": 127,
   "id": "f3ce079f",
   "metadata": {},
   "outputs": [],
   "source": [
    "X_train_model1 = X_train[['age','fare','pclass']]\n",
    "X_validate_model1 = X_validate[['age','fare','pclass']]\n",
    "X_test_model1 = X_test[['age','fare','pclass']]"
   ]
  },
  {
   "cell_type": "code",
   "execution_count": 128,
   "id": "1e5394c2",
   "metadata": {},
   "outputs": [],
   "source": [
    "seed = 42\n",
    "logit_model_1 = LogisticRegression(random_state = seed)"
   ]
  },
  {
   "cell_type": "code",
   "execution_count": 129,
   "id": "71d6cbda",
   "metadata": {},
   "outputs": [
    {
     "data": {
      "text/html": [
       "<style>#sk-container-id-4 {color: black;background-color: white;}#sk-container-id-4 pre{padding: 0;}#sk-container-id-4 div.sk-toggleable {background-color: white;}#sk-container-id-4 label.sk-toggleable__label {cursor: pointer;display: block;width: 100%;margin-bottom: 0;padding: 0.3em;box-sizing: border-box;text-align: center;}#sk-container-id-4 label.sk-toggleable__label-arrow:before {content: \"▸\";float: left;margin-right: 0.25em;color: #696969;}#sk-container-id-4 label.sk-toggleable__label-arrow:hover:before {color: black;}#sk-container-id-4 div.sk-estimator:hover label.sk-toggleable__label-arrow:before {color: black;}#sk-container-id-4 div.sk-toggleable__content {max-height: 0;max-width: 0;overflow: hidden;text-align: left;background-color: #f0f8ff;}#sk-container-id-4 div.sk-toggleable__content pre {margin: 0.2em;color: black;border-radius: 0.25em;background-color: #f0f8ff;}#sk-container-id-4 input.sk-toggleable__control:checked~div.sk-toggleable__content {max-height: 200px;max-width: 100%;overflow: auto;}#sk-container-id-4 input.sk-toggleable__control:checked~label.sk-toggleable__label-arrow:before {content: \"▾\";}#sk-container-id-4 div.sk-estimator input.sk-toggleable__control:checked~label.sk-toggleable__label {background-color: #d4ebff;}#sk-container-id-4 div.sk-label input.sk-toggleable__control:checked~label.sk-toggleable__label {background-color: #d4ebff;}#sk-container-id-4 input.sk-hidden--visually {border: 0;clip: rect(1px 1px 1px 1px);clip: rect(1px, 1px, 1px, 1px);height: 1px;margin: -1px;overflow: hidden;padding: 0;position: absolute;width: 1px;}#sk-container-id-4 div.sk-estimator {font-family: monospace;background-color: #f0f8ff;border: 1px dotted black;border-radius: 0.25em;box-sizing: border-box;margin-bottom: 0.5em;}#sk-container-id-4 div.sk-estimator:hover {background-color: #d4ebff;}#sk-container-id-4 div.sk-parallel-item::after {content: \"\";width: 100%;border-bottom: 1px solid gray;flex-grow: 1;}#sk-container-id-4 div.sk-label:hover label.sk-toggleable__label {background-color: #d4ebff;}#sk-container-id-4 div.sk-serial::before {content: \"\";position: absolute;border-left: 1px solid gray;box-sizing: border-box;top: 0;bottom: 0;left: 50%;z-index: 0;}#sk-container-id-4 div.sk-serial {display: flex;flex-direction: column;align-items: center;background-color: white;padding-right: 0.2em;padding-left: 0.2em;position: relative;}#sk-container-id-4 div.sk-item {position: relative;z-index: 1;}#sk-container-id-4 div.sk-parallel {display: flex;align-items: stretch;justify-content: center;background-color: white;position: relative;}#sk-container-id-4 div.sk-item::before, #sk-container-id-4 div.sk-parallel-item::before {content: \"\";position: absolute;border-left: 1px solid gray;box-sizing: border-box;top: 0;bottom: 0;left: 50%;z-index: -1;}#sk-container-id-4 div.sk-parallel-item {display: flex;flex-direction: column;z-index: 1;position: relative;background-color: white;}#sk-container-id-4 div.sk-parallel-item:first-child::after {align-self: flex-end;width: 50%;}#sk-container-id-4 div.sk-parallel-item:last-child::after {align-self: flex-start;width: 50%;}#sk-container-id-4 div.sk-parallel-item:only-child::after {width: 0;}#sk-container-id-4 div.sk-dashed-wrapped {border: 1px dashed gray;margin: 0 0.4em 0.5em 0.4em;box-sizing: border-box;padding-bottom: 0.4em;background-color: white;}#sk-container-id-4 div.sk-label label {font-family: monospace;font-weight: bold;display: inline-block;line-height: 1.2em;}#sk-container-id-4 div.sk-label-container {text-align: center;}#sk-container-id-4 div.sk-container {/* jupyter's `normalize.less` sets `[hidden] { display: none; }` but bootstrap.min.css set `[hidden] { display: none !important; }` so we also need the `!important` here to be able to override the default hidden behavior on the sphinx rendered scikit-learn.org. See: https://github.com/scikit-learn/scikit-learn/issues/21755 */display: inline-block !important;position: relative;}#sk-container-id-4 div.sk-text-repr-fallback {display: none;}</style><div id=\"sk-container-id-4\" class=\"sk-top-container\"><div class=\"sk-text-repr-fallback\"><pre>LogisticRegression(random_state=42)</pre><b>In a Jupyter environment, please rerun this cell to show the HTML representation or trust the notebook. <br />On GitHub, the HTML representation is unable to render, please try loading this page with nbviewer.org.</b></div><div class=\"sk-container\" hidden><div class=\"sk-item\"><div class=\"sk-estimator sk-toggleable\"><input class=\"sk-toggleable__control sk-hidden--visually\" id=\"sk-estimator-id-4\" type=\"checkbox\" checked><label for=\"sk-estimator-id-4\" class=\"sk-toggleable__label sk-toggleable__label-arrow\">LogisticRegression</label><div class=\"sk-toggleable__content\"><pre>LogisticRegression(random_state=42)</pre></div></div></div></div></div>"
      ],
      "text/plain": [
       "LogisticRegression(random_state=42)"
      ]
     },
     "execution_count": 129,
     "metadata": {},
     "output_type": "execute_result"
    }
   ],
   "source": [
    "logit_model_1.fit(X_train_model1,y_train)"
   ]
  },
  {
   "cell_type": "code",
   "execution_count": 176,
   "id": "53c3438e",
   "metadata": {
    "scrolled": true
   },
   "outputs": [
    {
     "data": {
      "text/plain": [
       "0.62"
      ]
     },
     "execution_count": 176,
     "metadata": {},
     "output_type": "execute_result"
    }
   ],
   "source": [
    "round(baseline_accuracy,2)"
   ]
  },
  {
   "cell_type": "code",
   "execution_count": 179,
   "id": "7d4e1c5c",
   "metadata": {},
   "outputs": [
    {
     "data": {
      "text/plain": [
       "0.6163723916532905"
      ]
     },
     "execution_count": 179,
     "metadata": {},
     "output_type": "execute_result"
    }
   ],
   "source": [
    "baseline_accuracy"
   ]
  },
  {
   "cell_type": "code",
   "execution_count": 131,
   "id": "8c01f9a4",
   "metadata": {},
   "outputs": [
    {
     "data": {
      "text/plain": [
       "0.6886035313001605"
      ]
     },
     "execution_count": 131,
     "metadata": {},
     "output_type": "execute_result"
    }
   ],
   "source": [
    "logit_model_1.score(X_train_model1,y_train)"
   ]
  },
  {
   "cell_type": "code",
   "execution_count": 132,
   "id": "f6e42919",
   "metadata": {},
   "outputs": [
    {
     "data": {
      "text/plain": [
       "0.7350746268656716"
      ]
     },
     "execution_count": 132,
     "metadata": {},
     "output_type": "execute_result"
    }
   ],
   "source": [
    "logit_model_1.score(X_validate_model1,y_validate)"
   ]
  },
  {
   "cell_type": "markdown",
   "id": "701ca21e",
   "metadata": {},
   "source": [
    "### 2. Include sex in your model as well. Note that you'll need to encode or create a dummy variable of this feature before including it in a model."
   ]
  },
  {
   "cell_type": "markdown",
   "id": "e861ca32",
   "metadata": {},
   "source": [
    "# Model 2"
   ]
  },
  {
   "cell_type": "markdown",
   "id": "1fc57cdd",
   "metadata": {},
   "source": [
    "### Acquire Model 2"
   ]
  },
  {
   "cell_type": "code",
   "execution_count": 141,
   "id": "8c33d5bc",
   "metadata": {},
   "outputs": [],
   "source": [
    "X_train_model2 = X_train[['age','fare','pclass','sex_male']]\n",
    "X_validate_model2 = X_validate[['age','fare','pclass','sex_male']]\n",
    "X_test_model2 = X_test[['age','fare','pclass','sex_male']]"
   ]
  },
  {
   "cell_type": "code",
   "execution_count": 142,
   "id": "589a99f8",
   "metadata": {},
   "outputs": [],
   "source": [
    "seed = 42\n",
    "logit_model_2 = LogisticRegression(random_state = seed)"
   ]
  },
  {
   "cell_type": "code",
   "execution_count": 143,
   "id": "c885ee5a",
   "metadata": {},
   "outputs": [
    {
     "data": {
      "text/html": [
       "<style>#sk-container-id-6 {color: black;background-color: white;}#sk-container-id-6 pre{padding: 0;}#sk-container-id-6 div.sk-toggleable {background-color: white;}#sk-container-id-6 label.sk-toggleable__label {cursor: pointer;display: block;width: 100%;margin-bottom: 0;padding: 0.3em;box-sizing: border-box;text-align: center;}#sk-container-id-6 label.sk-toggleable__label-arrow:before {content: \"▸\";float: left;margin-right: 0.25em;color: #696969;}#sk-container-id-6 label.sk-toggleable__label-arrow:hover:before {color: black;}#sk-container-id-6 div.sk-estimator:hover label.sk-toggleable__label-arrow:before {color: black;}#sk-container-id-6 div.sk-toggleable__content {max-height: 0;max-width: 0;overflow: hidden;text-align: left;background-color: #f0f8ff;}#sk-container-id-6 div.sk-toggleable__content pre {margin: 0.2em;color: black;border-radius: 0.25em;background-color: #f0f8ff;}#sk-container-id-6 input.sk-toggleable__control:checked~div.sk-toggleable__content {max-height: 200px;max-width: 100%;overflow: auto;}#sk-container-id-6 input.sk-toggleable__control:checked~label.sk-toggleable__label-arrow:before {content: \"▾\";}#sk-container-id-6 div.sk-estimator input.sk-toggleable__control:checked~label.sk-toggleable__label {background-color: #d4ebff;}#sk-container-id-6 div.sk-label input.sk-toggleable__control:checked~label.sk-toggleable__label {background-color: #d4ebff;}#sk-container-id-6 input.sk-hidden--visually {border: 0;clip: rect(1px 1px 1px 1px);clip: rect(1px, 1px, 1px, 1px);height: 1px;margin: -1px;overflow: hidden;padding: 0;position: absolute;width: 1px;}#sk-container-id-6 div.sk-estimator {font-family: monospace;background-color: #f0f8ff;border: 1px dotted black;border-radius: 0.25em;box-sizing: border-box;margin-bottom: 0.5em;}#sk-container-id-6 div.sk-estimator:hover {background-color: #d4ebff;}#sk-container-id-6 div.sk-parallel-item::after {content: \"\";width: 100%;border-bottom: 1px solid gray;flex-grow: 1;}#sk-container-id-6 div.sk-label:hover label.sk-toggleable__label {background-color: #d4ebff;}#sk-container-id-6 div.sk-serial::before {content: \"\";position: absolute;border-left: 1px solid gray;box-sizing: border-box;top: 0;bottom: 0;left: 50%;z-index: 0;}#sk-container-id-6 div.sk-serial {display: flex;flex-direction: column;align-items: center;background-color: white;padding-right: 0.2em;padding-left: 0.2em;position: relative;}#sk-container-id-6 div.sk-item {position: relative;z-index: 1;}#sk-container-id-6 div.sk-parallel {display: flex;align-items: stretch;justify-content: center;background-color: white;position: relative;}#sk-container-id-6 div.sk-item::before, #sk-container-id-6 div.sk-parallel-item::before {content: \"\";position: absolute;border-left: 1px solid gray;box-sizing: border-box;top: 0;bottom: 0;left: 50%;z-index: -1;}#sk-container-id-6 div.sk-parallel-item {display: flex;flex-direction: column;z-index: 1;position: relative;background-color: white;}#sk-container-id-6 div.sk-parallel-item:first-child::after {align-self: flex-end;width: 50%;}#sk-container-id-6 div.sk-parallel-item:last-child::after {align-self: flex-start;width: 50%;}#sk-container-id-6 div.sk-parallel-item:only-child::after {width: 0;}#sk-container-id-6 div.sk-dashed-wrapped {border: 1px dashed gray;margin: 0 0.4em 0.5em 0.4em;box-sizing: border-box;padding-bottom: 0.4em;background-color: white;}#sk-container-id-6 div.sk-label label {font-family: monospace;font-weight: bold;display: inline-block;line-height: 1.2em;}#sk-container-id-6 div.sk-label-container {text-align: center;}#sk-container-id-6 div.sk-container {/* jupyter's `normalize.less` sets `[hidden] { display: none; }` but bootstrap.min.css set `[hidden] { display: none !important; }` so we also need the `!important` here to be able to override the default hidden behavior on the sphinx rendered scikit-learn.org. See: https://github.com/scikit-learn/scikit-learn/issues/21755 */display: inline-block !important;position: relative;}#sk-container-id-6 div.sk-text-repr-fallback {display: none;}</style><div id=\"sk-container-id-6\" class=\"sk-top-container\"><div class=\"sk-text-repr-fallback\"><pre>LogisticRegression(random_state=42)</pre><b>In a Jupyter environment, please rerun this cell to show the HTML representation or trust the notebook. <br />On GitHub, the HTML representation is unable to render, please try loading this page with nbviewer.org.</b></div><div class=\"sk-container\" hidden><div class=\"sk-item\"><div class=\"sk-estimator sk-toggleable\"><input class=\"sk-toggleable__control sk-hidden--visually\" id=\"sk-estimator-id-6\" type=\"checkbox\" checked><label for=\"sk-estimator-id-6\" class=\"sk-toggleable__label sk-toggleable__label-arrow\">LogisticRegression</label><div class=\"sk-toggleable__content\"><pre>LogisticRegression(random_state=42)</pre></div></div></div></div></div>"
      ],
      "text/plain": [
       "LogisticRegression(random_state=42)"
      ]
     },
     "execution_count": 143,
     "metadata": {},
     "output_type": "execute_result"
    }
   ],
   "source": [
    "logit_model_2.fit(X_train_model2,y_train)"
   ]
  },
  {
   "cell_type": "code",
   "execution_count": 144,
   "id": "fe578675",
   "metadata": {
    "scrolled": true
   },
   "outputs": [
    {
     "data": {
      "text/plain": [
       "0.6163723916532905"
      ]
     },
     "execution_count": 144,
     "metadata": {},
     "output_type": "execute_result"
    }
   ],
   "source": [
    "baseline_accuracy"
   ]
  },
  {
   "cell_type": "code",
   "execution_count": 145,
   "id": "1a7b85f8",
   "metadata": {},
   "outputs": [
    {
     "data": {
      "text/plain": [
       "0.8009630818619583"
      ]
     },
     "execution_count": 145,
     "metadata": {},
     "output_type": "execute_result"
    }
   ],
   "source": [
    "logit_model_2.score(X_train_model2,y_train)"
   ]
  },
  {
   "cell_type": "code",
   "execution_count": 146,
   "id": "6eee8a49",
   "metadata": {},
   "outputs": [
    {
     "data": {
      "text/plain": [
       "0.7835820895522388"
      ]
     },
     "execution_count": 146,
     "metadata": {},
     "output_type": "execute_result"
    }
   ],
   "source": [
    "logit_model_2.score(X_validate_model2,y_validate)"
   ]
  },
  {
   "cell_type": "markdown",
   "id": "72079b28",
   "metadata": {},
   "source": [
    "### 3. Try out other combinations of features and models."
   ]
  },
  {
   "cell_type": "code",
   "execution_count": 155,
   "id": "1b393a1a",
   "metadata": {},
   "outputs": [],
   "source": [
    "compare = acquire.get_titanic_data()\n",
    "compare = prepare.prep_titanic(compare)"
   ]
  },
  {
   "cell_type": "code",
   "execution_count": 157,
   "id": "2eeb2ea6",
   "metadata": {},
   "outputs": [
    {
     "data": {
      "text/plain": [
       "Index(['survived', 'pclass', 'sex', 'age', 'sibsp', 'parch', 'fare',\n",
       "       'embark_town', 'alone', 'sex_male', 'embark_town_Queenstown',\n",
       "       'embark_town_Southampton'],\n",
       "      dtype='object')"
      ]
     },
     "execution_count": 157,
     "metadata": {},
     "output_type": "execute_result"
    }
   ],
   "source": [
    "compare.columns"
   ]
  },
  {
   "cell_type": "code",
   "execution_count": 160,
   "id": "17e9caa4",
   "metadata": {},
   "outputs": [
    {
     "data": {
      "text/plain": [
       "(891, 12)"
      ]
     },
     "execution_count": 160,
     "metadata": {},
     "output_type": "execute_result"
    }
   ],
   "source": [
    "compare.shape"
   ]
  },
  {
   "cell_type": "code",
   "execution_count": 162,
   "id": "285606b7",
   "metadata": {},
   "outputs": [],
   "source": [
    "train_validate_compare, test_compare = train_test_split(compare,train_size=.8,random_state=123,stratify=compare['survived'])\n",
    "train_compare, validate_compare = train_test_split(train_validate_compare,train_size=.7,random_state=123,stratify=train_validate_compare['survived'])"
   ]
  },
  {
   "cell_type": "code",
   "execution_count": 168,
   "id": "5888fde2",
   "metadata": {},
   "outputs": [],
   "source": [
    "imputer = SimpleImputer(missing_values = np.nan, strategy='most_frequent')\n",
    "\n",
    "train_compare[['age','embark_town']] = imputer.fit_transform(train_compare[['age','embark_town']])\n",
    "validate_compare[['age','embark_town']] = imputer.transform(validate_compare[['age','embark_town']])\n",
    "test_compare[['age','embark_town']] = imputer.transform(test_compare[['age','embark_town']])"
   ]
  },
  {
   "cell_type": "markdown",
   "id": "1237c361",
   "metadata": {},
   "source": [
    "# Isolate Target"
   ]
  },
  {
   "cell_type": "code",
   "execution_count": 169,
   "id": "12946797",
   "metadata": {},
   "outputs": [],
   "source": [
    "X_train_compare = train_compare.drop(columns=['survived'])\n",
    "y_train_compare = train_compare['survived']\n",
    "\n",
    "X_validate_compare = validate_compare.drop(columns=['survived'])\n",
    "y_validate_compare = validate_compare['survived']\n",
    "\n",
    "X_test_compare = test_compare.drop(columns=['survived'])\n",
    "y_test_compare = test_compare['survived']"
   ]
  },
  {
   "cell_type": "markdown",
   "id": "d5c2c428",
   "metadata": {},
   "source": [
    "#### Compare Model 1"
   ]
  },
  {
   "cell_type": "code",
   "execution_count": 170,
   "id": "0131469a",
   "metadata": {},
   "outputs": [
    {
     "data": {
      "text/html": [
       "<div>\n",
       "<style scoped>\n",
       "    .dataframe tbody tr th:only-of-type {\n",
       "        vertical-align: middle;\n",
       "    }\n",
       "\n",
       "    .dataframe tbody tr th {\n",
       "        vertical-align: top;\n",
       "    }\n",
       "\n",
       "    .dataframe thead th {\n",
       "        text-align: right;\n",
       "    }\n",
       "</style>\n",
       "<table border=\"1\" class=\"dataframe\">\n",
       "  <thead>\n",
       "    <tr style=\"text-align: right;\">\n",
       "      <th></th>\n",
       "      <th>pclass</th>\n",
       "      <th>sex</th>\n",
       "      <th>age</th>\n",
       "      <th>sibsp</th>\n",
       "      <th>parch</th>\n",
       "      <th>fare</th>\n",
       "      <th>embark_town</th>\n",
       "      <th>alone</th>\n",
       "      <th>sex_male</th>\n",
       "      <th>embark_town_Queenstown</th>\n",
       "      <th>embark_town_Southampton</th>\n",
       "    </tr>\n",
       "  </thead>\n",
       "  <tbody>\n",
       "    <tr>\n",
       "      <th>583</th>\n",
       "      <td>1</td>\n",
       "      <td>male</td>\n",
       "      <td>36.0</td>\n",
       "      <td>0</td>\n",
       "      <td>0</td>\n",
       "      <td>40.125</td>\n",
       "      <td>Cherbourg</td>\n",
       "      <td>1</td>\n",
       "      <td>1</td>\n",
       "      <td>0</td>\n",
       "      <td>0</td>\n",
       "    </tr>\n",
       "  </tbody>\n",
       "</table>\n",
       "</div>"
      ],
      "text/plain": [
       "     pclass   sex   age  sibsp  parch    fare embark_town  alone  sex_male  \\\n",
       "583       1  male  36.0      0      0  40.125   Cherbourg      1         1   \n",
       "\n",
       "     embark_town_Queenstown  embark_town_Southampton  \n",
       "583                       0                        0  "
      ]
     },
     "execution_count": 170,
     "metadata": {},
     "output_type": "execute_result"
    }
   ],
   "source": [
    "X_train_compare.head(1)"
   ]
  },
  {
   "cell_type": "code",
   "execution_count": null,
   "id": "b7834828",
   "metadata": {},
   "outputs": [],
   "source": [
    "compare_1_columns = ['','','']"
   ]
  },
  {
   "cell_type": "code",
   "execution_count": null,
   "id": "4048c36a",
   "metadata": {},
   "outputs": [],
   "source": [
    "X_train_compare_1 = X_train[compare_1_columns]\n",
    "X_validate_compare_1 = X_validate[compare_1_columns]\n",
    "X_test_compare_1 = X_test[compare_1_columns]"
   ]
  },
  {
   "cell_type": "code",
   "execution_count": null,
   "id": "ff77800b",
   "metadata": {},
   "outputs": [],
   "source": [
    "logit_compare_1 = LogisticRegression(random_state = seed)"
   ]
  },
  {
   "cell_type": "markdown",
   "id": "c8e1e82f",
   "metadata": {},
   "source": [
    "#### Compare Model 2"
   ]
  },
  {
   "cell_type": "code",
   "execution_count": null,
   "id": "56c482f2",
   "metadata": {},
   "outputs": [],
   "source": [
    "X_train_compare.head(1)"
   ]
  },
  {
   "cell_type": "code",
   "execution_count": null,
   "id": "146958fe",
   "metadata": {},
   "outputs": [],
   "source": [
    "compare_2_columns = ['','','']"
   ]
  },
  {
   "cell_type": "code",
   "execution_count": null,
   "id": "26dc228f",
   "metadata": {},
   "outputs": [],
   "source": [
    "X_train_compare_2 = X_train[compare_2_columns]\n",
    "X_validate_compare_2 = X_validate[compare_2_columns]\n",
    "X_test_compare_2 = X_test[compare_2_columns]"
   ]
  },
  {
   "cell_type": "code",
   "execution_count": null,
   "id": "09406fef",
   "metadata": {},
   "outputs": [],
   "source": [
    "logit_compare_2 = LogisticRegression(random_state = seed)"
   ]
  },
  {
   "cell_type": "markdown",
   "id": "f7a3e3b5",
   "metadata": {},
   "source": [
    "#### Compare Model 3"
   ]
  },
  {
   "cell_type": "code",
   "execution_count": null,
   "id": "eb66c772",
   "metadata": {},
   "outputs": [],
   "source": [
    "X_train_compare.head(1)"
   ]
  },
  {
   "cell_type": "code",
   "execution_count": null,
   "id": "1cafffde",
   "metadata": {},
   "outputs": [],
   "source": [
    "compare_3_columns = ['','','']"
   ]
  },
  {
   "cell_type": "code",
   "execution_count": null,
   "id": "7ca931de",
   "metadata": {},
   "outputs": [],
   "source": [
    "X_train_compare_3 = X_train[compare_3_columns]\n",
    "X_validate_compare_3 = X_validate[compare_3_columns]\n",
    "X_test_compare_3 = X_test[compare_3_columns]"
   ]
  },
  {
   "cell_type": "code",
   "execution_count": null,
   "id": "f8eacb4a",
   "metadata": {},
   "outputs": [],
   "source": [
    "logit_compare_3 = LogisticRegression(random_state = seed)"
   ]
  },
  {
   "cell_type": "markdown",
   "id": "63c11994",
   "metadata": {},
   "source": [
    "### 4. Use you best 3 models to predict and evaluate on your validate sample."
   ]
  },
  {
   "cell_type": "code",
   "execution_count": 175,
   "id": "a7853330",
   "metadata": {},
   "outputs": [
    {
     "ename": "NameError",
     "evalue": "name 'X_train_best' is not defined",
     "output_type": "error",
     "traceback": [
      "\u001b[0;31m---------------------------------------------------------------------------\u001b[0m",
      "\u001b[0;31mNameError\u001b[0m                                 Traceback (most recent call last)",
      "Input \u001b[0;32mIn [175]\u001b[0m, in \u001b[0;36m<cell line: 1>\u001b[0;34m()\u001b[0m\n\u001b[1;32m      1\u001b[0m \u001b[38;5;28;01mfor\u001b[39;00m i \u001b[38;5;129;01min\u001b[39;00m \u001b[38;5;28mrange\u001b[39m(\u001b[38;5;241m1\u001b[39m,\u001b[38;5;241m4\u001b[39m):\n\u001b[0;32m----> 2\u001b[0m     \u001b[38;5;28mprint\u001b[39m(\u001b[38;5;124mf\u001b[39m\u001b[38;5;124m\"\u001b[39m\u001b[38;5;124mModel \u001b[39m\u001b[38;5;132;01m{\u001b[39;00mi\u001b[38;5;132;01m}\u001b[39;00m\u001b[38;5;124m Train Acccuracy: \u001b[39m\u001b[38;5;132;01m{\u001b[39;00mlogit\u001b[38;5;241m.\u001b[39mscore(X_train_best, y_train_best)\u001b[38;5;132;01m}\u001b[39;00m\u001b[38;5;124m\"\u001b[39m)\n\u001b[1;32m      3\u001b[0m     \u001b[38;5;28mprint\u001b[39m(\u001b[38;5;124mf\u001b[39m\u001b[38;5;124m\"\u001b[39m\u001b[38;5;124mModel \u001b[39m\u001b[38;5;132;01m{\u001b[39;00mi\u001b[38;5;132;01m}\u001b[39;00m\u001b[38;5;124m Validate Acccuracy: \u001b[39m\u001b[38;5;132;01m{\u001b[39;00mlogit\u001b[38;5;241m.\u001b[39mscore(X_validate_best, y_validate_best)\u001b[38;5;132;01m}\u001b[39;00m\u001b[38;5;124m\"\u001b[39m)\n",
      "\u001b[0;31mNameError\u001b[0m: name 'X_train_best' is not defined"
     ]
    }
   ],
   "source": [
    "for i in range(1,4):\n",
    "    print(f\"Model {i} Train Acccuracy: {logit.score(X_train_best, y_train_best)}\")\n",
    "    print(f\"Model {i} Validate Acccuracy: {logit.score(X_validate_best, y_validate_best)}\")"
   ]
  },
  {
   "cell_type": "code",
   "execution_count": null,
   "id": "71c96b1c",
   "metadata": {},
   "outputs": [],
   "source": [
    "# LOOP"
   ]
  },
  {
   "cell_type": "code",
   "execution_count": null,
   "id": "8b2d746f",
   "metadata": {},
   "outputs": [],
   "source": [
    "logit.score(X_train_best, y_train_best)"
   ]
  },
  {
   "cell_type": "code",
   "execution_count": null,
   "id": "f4237563",
   "metadata": {},
   "outputs": [],
   "source": [
    "logit.score(X_validate_best, y_validate_best)"
   ]
  },
  {
   "cell_type": "markdown",
   "id": "63e72486",
   "metadata": {},
   "source": [
    "### 5. Choose you best model from the validation performation, and evaluate it on the test dataset. How do the performance metrics compare to validate? to train?"
   ]
  },
  {
   "cell_type": "markdown",
   "id": "65a528ed",
   "metadata": {},
   "source": [
    "# Validate"
   ]
  },
  {
   "cell_type": "code",
   "execution_count": null,
   "id": "3c0c4fe7",
   "metadata": {},
   "outputs": [],
   "source": [
    "compare_best_columns = ['','','']"
   ]
  },
  {
   "cell_type": "code",
   "execution_count": null,
   "id": "a189fe61",
   "metadata": {},
   "outputs": [],
   "source": [
    "X_train_best = X_train[compare_best_columns]\n",
    "X_validate_best = X_validate[compare_best_columns]\n",
    "X_test_best = X_test[compare_best_columns]"
   ]
  },
  {
   "cell_type": "code",
   "execution_count": null,
   "id": "18809498",
   "metadata": {},
   "outputs": [],
   "source": [
    "best_model = LogisticRegression(random_state = seed)"
   ]
  },
  {
   "cell_type": "code",
   "execution_count": null,
   "id": "ae4ffbe4",
   "metadata": {},
   "outputs": [],
   "source": [
    "logit.score(X_train_best, y_train_best)"
   ]
  },
  {
   "cell_type": "code",
   "execution_count": null,
   "id": "9624adca",
   "metadata": {},
   "outputs": [],
   "source": [
    "logit.score(X_validate_best, y_validate_best)"
   ]
  },
  {
   "cell_type": "code",
   "execution_count": null,
   "id": "47210585",
   "metadata": {},
   "outputs": [],
   "source": [
    "logit.score(X_test_best, y_test_best)"
   ]
  },
  {
   "cell_type": "markdown",
   "id": "7d74a5c2",
   "metadata": {},
   "source": [
    "<hr style=\"border:2px solid gray\">"
   ]
  },
  {
   "cell_type": "markdown",
   "id": "2c39bd0a",
   "metadata": {},
   "source": [
    "### 6. Bonus1 How do different strategies for handling the missing values in the age column affect model performance?"
   ]
  },
  {
   "cell_type": "markdown",
   "id": "c524a3e0",
   "metadata": {},
   "source": [
    "### Model Comparison: Imputer Strategy"
   ]
  },
  {
   "cell_type": "code",
   "execution_count": 171,
   "id": "73247608",
   "metadata": {},
   "outputs": [],
   "source": [
    "impute_strategy_list = ['mean','median','most_frequent', 'constant']"
   ]
  },
  {
   "cell_type": "code",
   "execution_count": 172,
   "id": "8d64fddd",
   "metadata": {},
   "outputs": [],
   "source": [
    "impute_strategy = impute_strategy_list[2]"
   ]
  },
  {
   "cell_type": "code",
   "execution_count": 173,
   "id": "d3c3b3c5",
   "metadata": {},
   "outputs": [],
   "source": [
    "imputer = SimpleImputer(missing_values = np.nan, strategy=impute_strategy)"
   ]
  },
  {
   "cell_type": "code",
   "execution_count": null,
   "id": "f7cdceb4",
   "metadata": {},
   "outputs": [],
   "source": [
    "train[['age']] = imputer.fit_transform(train[['age']])\n",
    "validate[['age']] = imputer.transform(validate[['age']])\n",
    "test[['age']] = imputer.transform(test[['age']])"
   ]
  },
  {
   "cell_type": "markdown",
   "id": "772d1be0",
   "metadata": {},
   "source": [
    "### 7. Bonus2: How do different strategies for encoding sex affect model performance?"
   ]
  },
  {
   "cell_type": "code",
   "execution_count": null,
   "id": "a79ff988",
   "metadata": {},
   "outputs": [],
   "source": [
    "data_frame_compare = ''"
   ]
  },
  {
   "cell_type": "code",
   "execution_count": null,
   "id": "bd563ea3",
   "metadata": {},
   "outputs": [],
   "source": [
    "train[['age']] = imputer.fit_transform(train[['age']])\n",
    "validate[['age']] = imputer.transform(validate[['age']])\n",
    "test[['age']] = imputer.transform(test[['age']])"
   ]
  },
  {
   "cell_type": "markdown",
   "id": "234941e1",
   "metadata": {},
   "source": [
    "### 8. Bonus3: scikit-learn's LogisticRegression classifier is actually applying a regularization penalty to the coefficients by default. This penalty causes the magnitude of the coefficients in the resulting model to be smaller than they otherwise would be. This value can be modified with the C hyper parameter. Small values of C correspond to a larger penalty, and large values of C correspond to a smaller penalty.\n",
    "###     Try out the following values for C and note how the coefficients and the model's performance on both the dataset it was trained on and on the validate split are affected. C=.01,.1,1,10,100,1000"
   ]
  },
  {
   "cell_type": "code",
   "execution_count": null,
   "id": "427547e4",
   "metadata": {},
   "outputs": [],
   "source": []
  },
  {
   "cell_type": "markdown",
   "id": "608fc6ae",
   "metadata": {},
   "source": [
    "### 9. Bonus Bonus: how does scaling the data interact with your choice of C?"
   ]
  },
  {
   "cell_type": "code",
   "execution_count": null,
   "id": "a2d62277",
   "metadata": {},
   "outputs": [],
   "source": []
  }
 ],
 "metadata": {
  "kernelspec": {
   "display_name": "Python 3 (ipykernel)",
   "language": "python",
   "name": "python3"
  },
  "language_info": {
   "codemirror_mode": {
    "name": "ipython",
    "version": 3
   },
   "file_extension": ".py",
   "mimetype": "text/x-python",
   "name": "python",
   "nbconvert_exporter": "python",
   "pygments_lexer": "ipython3",
   "version": "3.9.15"
  }
 },
 "nbformat": 4,
 "nbformat_minor": 5
}
